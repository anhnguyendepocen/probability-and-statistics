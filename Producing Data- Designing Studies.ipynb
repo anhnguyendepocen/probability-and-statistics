{
 "cells": [
  {
   "cell_type": "markdown",
   "metadata": {},
   "source": [
    "# Producing Data: Designing Studies"
   ]
  },
  {
   "cell_type": "markdown",
   "metadata": {},
   "source": [
    "## 1. Experiments with One Explanatory Variable\n",
    "A local internet service provider (ISP) created two new versions of its software, with alternative ways of implementing a new feature. To find the product that would lead to the highest satisfaction among customers, the ISP conducted an experiment comparing users' preferences for the two new versions versus the existing software.\n",
    "\n",
    "The ISP ideally wants to find out which of the three software products causes the highest user satisfaction. It has identified three major potential lurking variables that might affect user satisfaction—gender, age, and hours per week of computer use.\n",
    "\n",
    "In this activity, we will use adults in a hypothetical city as the population of interest to the ISP. We will:\n",
    "\n",
    "1. create a simple random sample as the basis for the experimental study of the population,\n",
    "2. use randomization to assign individuals to treatment groups, and\n",
    "3. verify that randomization prevented the three treatment groups from being different with respect to the most obvious lurking variables."
   ]
  },
  {
   "cell_type": "code",
   "execution_count": 37,
   "metadata": {},
   "outputs": [
    {
     "data": {
      "text/html": [
       "<script>requirejs.config({paths: { 'plotly': ['https://cdn.plot.ly/plotly-latest.min']},});if(!window.Plotly) {{require(['plotly'],function(plotly) {window.Plotly=plotly;});}}</script>"
      ],
      "text/vnd.plotly.v1+html": [
       "<script>requirejs.config({paths: { 'plotly': ['https://cdn.plot.ly/plotly-latest.min']},});if(!window.Plotly) {{require(['plotly'],function(plotly) {window.Plotly=plotly;});}}</script>"
      ]
     },
     "metadata": {},
     "output_type": "display_data"
    }
   ],
   "source": [
    "import pandas as pd\n",
    "import numpy as np\n",
    "import plotly.graph_objs as go\n",
    "from plotly.offline import iplot, init_notebook_mode\n",
    "\n",
    "init_notebook_mode(True)"
   ]
  },
  {
   "cell_type": "code",
   "execution_count": 38,
   "metadata": {},
   "outputs": [
    {
     "data": {
      "text/html": [
       "<div>\n",
       "<style scoped>\n",
       "    .dataframe tbody tr th:only-of-type {\n",
       "        vertical-align: middle;\n",
       "    }\n",
       "\n",
       "    .dataframe tbody tr th {\n",
       "        vertical-align: top;\n",
       "    }\n",
       "\n",
       "    .dataframe thead th {\n",
       "        text-align: right;\n",
       "    }\n",
       "</style>\n",
       "<table border=\"1\" class=\"dataframe\">\n",
       "  <thead>\n",
       "    <tr style=\"text-align: right;\">\n",
       "      <th></th>\n",
       "      <th>Age</th>\n",
       "      <th>Gender</th>\n",
       "      <th>Comp</th>\n",
       "    </tr>\n",
       "  </thead>\n",
       "  <tbody>\n",
       "    <tr>\n",
       "      <th>0</th>\n",
       "      <td>46</td>\n",
       "      <td>Female</td>\n",
       "      <td>2</td>\n",
       "    </tr>\n",
       "    <tr>\n",
       "      <th>1</th>\n",
       "      <td>76</td>\n",
       "      <td>Female</td>\n",
       "      <td>1</td>\n",
       "    </tr>\n",
       "    <tr>\n",
       "      <th>2</th>\n",
       "      <td>51</td>\n",
       "      <td>Female</td>\n",
       "      <td>6</td>\n",
       "    </tr>\n",
       "    <tr>\n",
       "      <th>3</th>\n",
       "      <td>62</td>\n",
       "      <td>Female</td>\n",
       "      <td>6</td>\n",
       "    </tr>\n",
       "    <tr>\n",
       "      <th>4</th>\n",
       "      <td>24</td>\n",
       "      <td>Female</td>\n",
       "      <td>12</td>\n",
       "    </tr>\n",
       "  </tbody>\n",
       "</table>\n",
       "</div>"
      ],
      "text/plain": [
       "   Age  Gender  Comp\n",
       "0   46  Female     2\n",
       "1   76  Female     1\n",
       "2   51  Female     6\n",
       "3   62  Female     6\n",
       "4   24  Female    12"
      ]
     },
     "execution_count": 38,
     "metadata": {},
     "output_type": "execute_result"
    }
   ],
   "source": [
    "customers = pd.read_excel('files/computers.xls')\n",
    "customers.head()"
   ]
  },
  {
   "cell_type": "code",
   "execution_count": 39,
   "metadata": {},
   "outputs": [
    {
     "data": {
      "text/html": [
       "<div>\n",
       "<style scoped>\n",
       "    .dataframe tbody tr th:only-of-type {\n",
       "        vertical-align: middle;\n",
       "    }\n",
       "\n",
       "    .dataframe tbody tr th {\n",
       "        vertical-align: top;\n",
       "    }\n",
       "\n",
       "    .dataframe thead th {\n",
       "        text-align: right;\n",
       "    }\n",
       "</style>\n",
       "<table border=\"1\" class=\"dataframe\">\n",
       "  <thead>\n",
       "    <tr style=\"text-align: right;\">\n",
       "      <th></th>\n",
       "      <th>count</th>\n",
       "      <th>mean</th>\n",
       "      <th>std</th>\n",
       "      <th>min</th>\n",
       "      <th>25%</th>\n",
       "      <th>50%</th>\n",
       "      <th>75%</th>\n",
       "      <th>max</th>\n",
       "    </tr>\n",
       "  </thead>\n",
       "  <tbody>\n",
       "    <tr>\n",
       "      <th>Age</th>\n",
       "      <td>20783.0</td>\n",
       "      <td>44.273108</td>\n",
       "      <td>17.070678</td>\n",
       "      <td>18.0</td>\n",
       "      <td>31.0</td>\n",
       "      <td>41.0</td>\n",
       "      <td>55.0</td>\n",
       "      <td>107.0</td>\n",
       "    </tr>\n",
       "    <tr>\n",
       "      <th>Comp</th>\n",
       "      <td>20783.0</td>\n",
       "      <td>11.099937</td>\n",
       "      <td>7.533505</td>\n",
       "      <td>0.0</td>\n",
       "      <td>5.0</td>\n",
       "      <td>11.0</td>\n",
       "      <td>17.0</td>\n",
       "      <td>37.0</td>\n",
       "    </tr>\n",
       "  </tbody>\n",
       "</table>\n",
       "</div>"
      ],
      "text/plain": [
       "        count       mean        std   min   25%   50%   75%    max\n",
       "Age   20783.0  44.273108  17.070678  18.0  31.0  41.0  55.0  107.0\n",
       "Comp  20783.0  11.099937   7.533505   0.0   5.0  11.0  17.0   37.0"
      ]
     },
     "execution_count": 39,
     "metadata": {},
     "output_type": "execute_result"
    }
   ],
   "source": [
    "customers.describe().transpose()"
   ]
  },
  {
   "cell_type": "code",
   "execution_count": 40,
   "metadata": {},
   "outputs": [
    {
     "data": {
      "text/html": [
       "<div>\n",
       "<style scoped>\n",
       "    .dataframe tbody tr th:only-of-type {\n",
       "        vertical-align: middle;\n",
       "    }\n",
       "\n",
       "    .dataframe tbody tr th {\n",
       "        vertical-align: top;\n",
       "    }\n",
       "\n",
       "    .dataframe thead th {\n",
       "        text-align: right;\n",
       "    }\n",
       "</style>\n",
       "<table border=\"1\" class=\"dataframe\">\n",
       "  <thead>\n",
       "    <tr style=\"text-align: right;\">\n",
       "      <th></th>\n",
       "      <th>Gender</th>\n",
       "      <th>Female</th>\n",
       "      <th>Male</th>\n",
       "    </tr>\n",
       "  </thead>\n",
       "  <tbody>\n",
       "    <tr>\n",
       "      <th rowspan=\"8\" valign=\"top\">Age</th>\n",
       "      <th>count</th>\n",
       "      <td>10368.000000</td>\n",
       "      <td>10415.000000</td>\n",
       "    </tr>\n",
       "    <tr>\n",
       "      <th>mean</th>\n",
       "      <td>44.279225</td>\n",
       "      <td>44.267019</td>\n",
       "    </tr>\n",
       "    <tr>\n",
       "      <th>std</th>\n",
       "      <td>17.315714</td>\n",
       "      <td>16.824032</td>\n",
       "    </tr>\n",
       "    <tr>\n",
       "      <th>min</th>\n",
       "      <td>18.000000</td>\n",
       "      <td>18.000000</td>\n",
       "    </tr>\n",
       "    <tr>\n",
       "      <th>25%</th>\n",
       "      <td>30.000000</td>\n",
       "      <td>31.000000</td>\n",
       "    </tr>\n",
       "    <tr>\n",
       "      <th>50%</th>\n",
       "      <td>41.000000</td>\n",
       "      <td>42.000000</td>\n",
       "    </tr>\n",
       "    <tr>\n",
       "      <th>75%</th>\n",
       "      <td>55.000000</td>\n",
       "      <td>55.000000</td>\n",
       "    </tr>\n",
       "    <tr>\n",
       "      <th>max</th>\n",
       "      <td>107.000000</td>\n",
       "      <td>99.000000</td>\n",
       "    </tr>\n",
       "    <tr>\n",
       "      <th rowspan=\"8\" valign=\"top\">Comp</th>\n",
       "      <th>count</th>\n",
       "      <td>10368.000000</td>\n",
       "      <td>10415.000000</td>\n",
       "    </tr>\n",
       "    <tr>\n",
       "      <th>mean</th>\n",
       "      <td>11.153549</td>\n",
       "      <td>11.046567</td>\n",
       "    </tr>\n",
       "    <tr>\n",
       "      <th>std</th>\n",
       "      <td>7.607546</td>\n",
       "      <td>7.459052</td>\n",
       "    </tr>\n",
       "    <tr>\n",
       "      <th>min</th>\n",
       "      <td>0.000000</td>\n",
       "      <td>0.000000</td>\n",
       "    </tr>\n",
       "    <tr>\n",
       "      <th>25%</th>\n",
       "      <td>5.000000</td>\n",
       "      <td>5.000000</td>\n",
       "    </tr>\n",
       "    <tr>\n",
       "      <th>50%</th>\n",
       "      <td>11.000000</td>\n",
       "      <td>10.000000</td>\n",
       "    </tr>\n",
       "    <tr>\n",
       "      <th>75%</th>\n",
       "      <td>17.000000</td>\n",
       "      <td>17.000000</td>\n",
       "    </tr>\n",
       "    <tr>\n",
       "      <th>max</th>\n",
       "      <td>37.000000</td>\n",
       "      <td>35.000000</td>\n",
       "    </tr>\n",
       "  </tbody>\n",
       "</table>\n",
       "</div>"
      ],
      "text/plain": [
       "Gender            Female          Male\n",
       "Age  count  10368.000000  10415.000000\n",
       "     mean      44.279225     44.267019\n",
       "     std       17.315714     16.824032\n",
       "     min       18.000000     18.000000\n",
       "     25%       30.000000     31.000000\n",
       "     50%       41.000000     42.000000\n",
       "     75%       55.000000     55.000000\n",
       "     max      107.000000     99.000000\n",
       "Comp count  10368.000000  10415.000000\n",
       "     mean      11.153549     11.046567\n",
       "     std        7.607546      7.459052\n",
       "     min        0.000000      0.000000\n",
       "     25%        5.000000      5.000000\n",
       "     50%       11.000000     10.000000\n",
       "     75%       17.000000     17.000000\n",
       "     max       37.000000     35.000000"
      ]
     },
     "execution_count": 40,
     "metadata": {},
     "output_type": "execute_result"
    }
   ],
   "source": [
    "customers.groupby('Gender').describe().transpose()"
   ]
  },
  {
   "cell_type": "code",
   "execution_count": 41,
   "metadata": {},
   "outputs": [
    {
     "data": {
      "text/html": [
       "<div>\n",
       "<style scoped>\n",
       "    .dataframe tbody tr th:only-of-type {\n",
       "        vertical-align: middle;\n",
       "    }\n",
       "\n",
       "    .dataframe tbody tr th {\n",
       "        vertical-align: top;\n",
       "    }\n",
       "\n",
       "    .dataframe thead th {\n",
       "        text-align: right;\n",
       "    }\n",
       "</style>\n",
       "<table border=\"1\" class=\"dataframe\">\n",
       "  <thead>\n",
       "    <tr style=\"text-align: right;\">\n",
       "      <th></th>\n",
       "      <th>Age</th>\n",
       "      <th>Gender</th>\n",
       "      <th>Comp</th>\n",
       "    </tr>\n",
       "  </thead>\n",
       "  <tbody>\n",
       "    <tr>\n",
       "      <th>3958</th>\n",
       "      <td>85</td>\n",
       "      <td>Female</td>\n",
       "      <td>0</td>\n",
       "    </tr>\n",
       "    <tr>\n",
       "      <th>2362</th>\n",
       "      <td>38</td>\n",
       "      <td>Male</td>\n",
       "      <td>9</td>\n",
       "    </tr>\n",
       "    <tr>\n",
       "      <th>19243</th>\n",
       "      <td>41</td>\n",
       "      <td>Female</td>\n",
       "      <td>15</td>\n",
       "    </tr>\n",
       "    <tr>\n",
       "      <th>12246</th>\n",
       "      <td>29</td>\n",
       "      <td>Male</td>\n",
       "      <td>8</td>\n",
       "    </tr>\n",
       "    <tr>\n",
       "      <th>1616</th>\n",
       "      <td>55</td>\n",
       "      <td>Female</td>\n",
       "      <td>4</td>\n",
       "    </tr>\n",
       "  </tbody>\n",
       "</table>\n",
       "</div>"
      ],
      "text/plain": [
       "       Age  Gender  Comp\n",
       "3958    85  Female     0\n",
       "2362    38    Male     9\n",
       "19243   41  Female    15\n",
       "12246   29    Male     8\n",
       "1616    55  Female     4"
      ]
     },
     "execution_count": 41,
     "metadata": {},
     "output_type": "execute_result"
    }
   ],
   "source": [
    "rand_sample = customers.sample(n=450)\n",
    "rand_sample.head()"
   ]
  },
  {
   "cell_type": "code",
   "execution_count": 42,
   "metadata": {},
   "outputs": [
    {
     "data": {
      "text/html": [
       "<div>\n",
       "<style scoped>\n",
       "    .dataframe tbody tr th:only-of-type {\n",
       "        vertical-align: middle;\n",
       "    }\n",
       "\n",
       "    .dataframe tbody tr th {\n",
       "        vertical-align: top;\n",
       "    }\n",
       "\n",
       "    .dataframe thead th {\n",
       "        text-align: right;\n",
       "    }\n",
       "</style>\n",
       "<table border=\"1\" class=\"dataframe\">\n",
       "  <thead>\n",
       "    <tr style=\"text-align: right;\">\n",
       "      <th></th>\n",
       "      <th>count</th>\n",
       "      <th>mean</th>\n",
       "      <th>std</th>\n",
       "      <th>min</th>\n",
       "      <th>25%</th>\n",
       "      <th>50%</th>\n",
       "      <th>75%</th>\n",
       "      <th>max</th>\n",
       "    </tr>\n",
       "  </thead>\n",
       "  <tbody>\n",
       "    <tr>\n",
       "      <th>Age</th>\n",
       "      <td>450.0</td>\n",
       "      <td>44.113333</td>\n",
       "      <td>17.567130</td>\n",
       "      <td>18.0</td>\n",
       "      <td>30.00</td>\n",
       "      <td>41.0</td>\n",
       "      <td>57.0</td>\n",
       "      <td>92.0</td>\n",
       "    </tr>\n",
       "    <tr>\n",
       "      <th>Comp</th>\n",
       "      <td>450.0</td>\n",
       "      <td>11.248889</td>\n",
       "      <td>7.688264</td>\n",
       "      <td>0.0</td>\n",
       "      <td>4.25</td>\n",
       "      <td>11.0</td>\n",
       "      <td>18.0</td>\n",
       "      <td>29.0</td>\n",
       "    </tr>\n",
       "  </tbody>\n",
       "</table>\n",
       "</div>"
      ],
      "text/plain": [
       "      count       mean        std   min    25%   50%   75%   max\n",
       "Age   450.0  44.113333  17.567130  18.0  30.00  41.0  57.0  92.0\n",
       "Comp  450.0  11.248889   7.688264   0.0   4.25  11.0  18.0  29.0"
      ]
     },
     "execution_count": 42,
     "metadata": {},
     "output_type": "execute_result"
    }
   ],
   "source": [
    "rand_sample.describe().transpose()"
   ]
  },
  {
   "cell_type": "code",
   "execution_count": 43,
   "metadata": {},
   "outputs": [],
   "source": [
    "group = np.random.randint(1, 4, size=len(rand_sample))"
   ]
  },
  {
   "cell_type": "code",
   "execution_count": 44,
   "metadata": {},
   "outputs": [
    {
     "data": {
      "text/html": [
       "<div>\n",
       "<style scoped>\n",
       "    .dataframe tbody tr th:only-of-type {\n",
       "        vertical-align: middle;\n",
       "    }\n",
       "\n",
       "    .dataframe tbody tr th {\n",
       "        vertical-align: top;\n",
       "    }\n",
       "\n",
       "    .dataframe thead th {\n",
       "        text-align: right;\n",
       "    }\n",
       "</style>\n",
       "<table border=\"1\" class=\"dataframe\">\n",
       "  <thead>\n",
       "    <tr style=\"text-align: right;\">\n",
       "      <th></th>\n",
       "      <th>Age</th>\n",
       "      <th>Gender</th>\n",
       "      <th>Comp</th>\n",
       "      <th>group</th>\n",
       "    </tr>\n",
       "  </thead>\n",
       "  <tbody>\n",
       "    <tr>\n",
       "      <th>3958</th>\n",
       "      <td>85</td>\n",
       "      <td>Female</td>\n",
       "      <td>0</td>\n",
       "      <td>1</td>\n",
       "    </tr>\n",
       "    <tr>\n",
       "      <th>2362</th>\n",
       "      <td>38</td>\n",
       "      <td>Male</td>\n",
       "      <td>9</td>\n",
       "      <td>1</td>\n",
       "    </tr>\n",
       "    <tr>\n",
       "      <th>19243</th>\n",
       "      <td>41</td>\n",
       "      <td>Female</td>\n",
       "      <td>15</td>\n",
       "      <td>2</td>\n",
       "    </tr>\n",
       "    <tr>\n",
       "      <th>12246</th>\n",
       "      <td>29</td>\n",
       "      <td>Male</td>\n",
       "      <td>8</td>\n",
       "      <td>2</td>\n",
       "    </tr>\n",
       "    <tr>\n",
       "      <th>1616</th>\n",
       "      <td>55</td>\n",
       "      <td>Female</td>\n",
       "      <td>4</td>\n",
       "      <td>2</td>\n",
       "    </tr>\n",
       "  </tbody>\n",
       "</table>\n",
       "</div>"
      ],
      "text/plain": [
       "       Age  Gender  Comp  group\n",
       "3958    85  Female     0      1\n",
       "2362    38    Male     9      1\n",
       "19243   41  Female    15      2\n",
       "12246   29    Male     8      2\n",
       "1616    55  Female     4      2"
      ]
     },
     "execution_count": 44,
     "metadata": {},
     "output_type": "execute_result"
    }
   ],
   "source": [
    "rand_sample['group'] = group\n",
    "rand_sample.head()"
   ]
  },
  {
   "cell_type": "markdown",
   "metadata": {},
   "source": [
    "We will now examine whether the randomization was successful in making our three treatment groups similar with respect to the variables age, gender, and comp. In other words, we will now examine whether the distributions of these variables in the three groups are similar or not.\n",
    "\n",
    "##### To compare the distribution of age among the three treatment groups, we'll create side-by-side boxplots of age by treatment."
   ]
  },
  {
   "cell_type": "code",
   "execution_count": 45,
   "metadata": {},
   "outputs": [],
   "source": [
    "g1 = go.Box(y=rand_sample[rand_sample.group == 1].Age, name=\"Group 1\")\n",
    "g2 = go.Box(y=rand_sample[rand_sample.group == 2].Age, name=\"Group 2\")\n",
    "g3 = go.Box(y=rand_sample[rand_sample.group == 3].Age, name=\"Group 3\")"
   ]
  },
  {
   "cell_type": "code",
   "execution_count": 46,
   "metadata": {},
   "outputs": [],
   "source": [
    "boxlayout = {\n",
    "    'xaxis': {'title': 'Group'},\n",
    "    'yaxis': {'title': 'Age(years)'}\n",
    "}"
   ]
  },
  {
   "cell_type": "code",
   "execution_count": 47,
   "metadata": {},
   "outputs": [
    {
     "data": {
      "application/vnd.plotly.v1+json": {
       "data": [
        {
         "name": "Group 1",
         "type": "box",
         "uid": "91b448",
         "y": [
          85,
          38,
          87,
          22,
          43,
          34,
          40,
          56,
          44,
          27,
          35,
          52,
          62,
          30,
          24,
          25,
          45,
          31,
          74,
          44,
          23,
          40,
          83,
          79,
          67,
          33,
          58,
          25,
          43,
          46,
          29,
          52,
          50,
          30,
          54,
          20,
          35,
          57,
          23,
          41,
          33,
          41,
          49,
          40,
          91,
          18,
          29,
          62,
          77,
          31,
          82,
          48,
          41,
          24,
          75,
          67,
          46,
          19,
          74,
          63,
          24,
          54,
          47,
          35,
          25,
          61,
          69,
          22,
          39,
          40,
          33,
          43,
          34,
          61,
          43,
          62,
          32,
          23,
          31,
          43,
          30,
          88,
          18,
          19,
          34,
          24,
          21,
          27,
          52,
          57,
          70,
          65,
          57,
          29,
          61,
          66,
          38,
          41,
          45,
          56,
          25,
          27,
          44,
          27,
          56,
          28,
          31,
          53,
          53,
          30,
          28,
          37,
          27,
          29,
          36,
          24,
          24,
          19,
          21,
          30,
          27,
          66,
          52,
          19,
          51,
          51,
          63,
          52,
          34,
          39,
          50,
          26,
          61,
          45,
          34,
          44,
          30,
          61,
          22,
          44,
          45,
          32,
          61,
          35,
          63,
          45,
          73
         ]
        },
        {
         "name": "Group 2",
         "type": "box",
         "uid": "f8bd00",
         "y": [
          41,
          29,
          55,
          31,
          31,
          60,
          45,
          30,
          46,
          34,
          49,
          24,
          36,
          53,
          75,
          40,
          49,
          59,
          28,
          48,
          21,
          19,
          83,
          29,
          23,
          25,
          76,
          27,
          31,
          68,
          61,
          53,
          58,
          58,
          37,
          22,
          33,
          46,
          53,
          64,
          36,
          67,
          60,
          47,
          42,
          49,
          18,
          62,
          61,
          30,
          19,
          19,
          41,
          51,
          36,
          37,
          28,
          36,
          26,
          34,
          27,
          24,
          35,
          32,
          42,
          54,
          77,
          92,
          60,
          38,
          36,
          87,
          30,
          22,
          68,
          65,
          45,
          36,
          33,
          28,
          24,
          47,
          31,
          24,
          66,
          30,
          21,
          27,
          77,
          66,
          63,
          32,
          89,
          25,
          58,
          25,
          35,
          31,
          31,
          60,
          43,
          54,
          39,
          80,
          48,
          26,
          58,
          46,
          30,
          41,
          30,
          27,
          39,
          48,
          60,
          75,
          42,
          38,
          61,
          62,
          30,
          38,
          23,
          24,
          52,
          73,
          60,
          58,
          53,
          54,
          32,
          23,
          47,
          20,
          62,
          75,
          41,
          34,
          87,
          32,
          21,
          28,
          56,
          26
         ]
        },
        {
         "name": "Group 3",
         "type": "box",
         "uid": "6f974b",
         "y": [
          73,
          37,
          28,
          60,
          57,
          36,
          64,
          19,
          30,
          18,
          35,
          29,
          30,
          44,
          21,
          71,
          35,
          46,
          63,
          57,
          36,
          46,
          18,
          36,
          25,
          53,
          64,
          45,
          70,
          65,
          66,
          90,
          28,
          19,
          37,
          27,
          32,
          24,
          25,
          42,
          31,
          24,
          27,
          71,
          22,
          46,
          52,
          30,
          43,
          48,
          37,
          61,
          45,
          75,
          40,
          53,
          50,
          29,
          56,
          34,
          56,
          24,
          24,
          39,
          34,
          40,
          36,
          47,
          36,
          23,
          52,
          28,
          41,
          61,
          88,
          26,
          32,
          55,
          67,
          34,
          25,
          32,
          63,
          50,
          25,
          68,
          77,
          75,
          43,
          67,
          62,
          57,
          82,
          34,
          43,
          32,
          42,
          26,
          49,
          29,
          52,
          55,
          24,
          67,
          77,
          54,
          51,
          43,
          62,
          44,
          63,
          72,
          25,
          41,
          68,
          35,
          27,
          52,
          21,
          49,
          28,
          38,
          48,
          48,
          44,
          75,
          30,
          54,
          37,
          61,
          39,
          37,
          55,
          38,
          27,
          65,
          34,
          25,
          27,
          35,
          34,
          88,
          62,
          25,
          45,
          24,
          30,
          60,
          67,
          44,
          56,
          42,
          25,
          32,
          36,
          28,
          76,
          87,
          37
         ]
        }
       ],
       "layout": {
        "autosize": true,
        "xaxis": {
         "autorange": true,
         "range": [
          -0.5,
          2.5
         ],
         "title": "Group",
         "type": "category"
        },
        "yaxis": {
         "autorange": true,
         "range": [
          13.88888888888889,
          96.11111111111111
         ],
         "title": "Age(years)",
         "type": "linear"
        }
       }
      },
      "text/html": [
       "<div id=\"9f3f3b01-8877-46fc-b5e0-54544eef267d\" style=\"height: 525px; width: 100%;\" class=\"plotly-graph-div\"></div><script type=\"text/javascript\">require([\"plotly\"], function(Plotly) { window.PLOTLYENV=window.PLOTLYENV || {};window.PLOTLYENV.BASE_URL=\"https://plot.ly\";Plotly.newPlot(\"9f3f3b01-8877-46fc-b5e0-54544eef267d\", [{\"type\": \"box\", \"y\": [85, 38, 87, 22, 43, 34, 40, 56, 44, 27, 35, 52, 62, 30, 24, 25, 45, 31, 74, 44, 23, 40, 83, 79, 67, 33, 58, 25, 43, 46, 29, 52, 50, 30, 54, 20, 35, 57, 23, 41, 33, 41, 49, 40, 91, 18, 29, 62, 77, 31, 82, 48, 41, 24, 75, 67, 46, 19, 74, 63, 24, 54, 47, 35, 25, 61, 69, 22, 39, 40, 33, 43, 34, 61, 43, 62, 32, 23, 31, 43, 30, 88, 18, 19, 34, 24, 21, 27, 52, 57, 70, 65, 57, 29, 61, 66, 38, 41, 45, 56, 25, 27, 44, 27, 56, 28, 31, 53, 53, 30, 28, 37, 27, 29, 36, 24, 24, 19, 21, 30, 27, 66, 52, 19, 51, 51, 63, 52, 34, 39, 50, 26, 61, 45, 34, 44, 30, 61, 22, 44, 45, 32, 61, 35, 63, 45, 73], \"name\": \"Group 1\"}, {\"type\": \"box\", \"y\": [41, 29, 55, 31, 31, 60, 45, 30, 46, 34, 49, 24, 36, 53, 75, 40, 49, 59, 28, 48, 21, 19, 83, 29, 23, 25, 76, 27, 31, 68, 61, 53, 58, 58, 37, 22, 33, 46, 53, 64, 36, 67, 60, 47, 42, 49, 18, 62, 61, 30, 19, 19, 41, 51, 36, 37, 28, 36, 26, 34, 27, 24, 35, 32, 42, 54, 77, 92, 60, 38, 36, 87, 30, 22, 68, 65, 45, 36, 33, 28, 24, 47, 31, 24, 66, 30, 21, 27, 77, 66, 63, 32, 89, 25, 58, 25, 35, 31, 31, 60, 43, 54, 39, 80, 48, 26, 58, 46, 30, 41, 30, 27, 39, 48, 60, 75, 42, 38, 61, 62, 30, 38, 23, 24, 52, 73, 60, 58, 53, 54, 32, 23, 47, 20, 62, 75, 41, 34, 87, 32, 21, 28, 56, 26], \"name\": \"Group 2\"}, {\"type\": \"box\", \"y\": [73, 37, 28, 60, 57, 36, 64, 19, 30, 18, 35, 29, 30, 44, 21, 71, 35, 46, 63, 57, 36, 46, 18, 36, 25, 53, 64, 45, 70, 65, 66, 90, 28, 19, 37, 27, 32, 24, 25, 42, 31, 24, 27, 71, 22, 46, 52, 30, 43, 48, 37, 61, 45, 75, 40, 53, 50, 29, 56, 34, 56, 24, 24, 39, 34, 40, 36, 47, 36, 23, 52, 28, 41, 61, 88, 26, 32, 55, 67, 34, 25, 32, 63, 50, 25, 68, 77, 75, 43, 67, 62, 57, 82, 34, 43, 32, 42, 26, 49, 29, 52, 55, 24, 67, 77, 54, 51, 43, 62, 44, 63, 72, 25, 41, 68, 35, 27, 52, 21, 49, 28, 38, 48, 48, 44, 75, 30, 54, 37, 61, 39, 37, 55, 38, 27, 65, 34, 25, 27, 35, 34, 88, 62, 25, 45, 24, 30, 60, 67, 44, 56, 42, 25, 32, 36, 28, 76, 87, 37], \"name\": \"Group 3\"}], {\"xaxis\": {\"title\": \"Group\"}, \"yaxis\": {\"title\": \"Age(years)\"}}, {\"showLink\": true, \"linkText\": \"Export to plot.ly\"})});</script>"
      ],
      "text/vnd.plotly.v1+html": [
       "<div id=\"9f3f3b01-8877-46fc-b5e0-54544eef267d\" style=\"height: 525px; width: 100%;\" class=\"plotly-graph-div\"></div><script type=\"text/javascript\">require([\"plotly\"], function(Plotly) { window.PLOTLYENV=window.PLOTLYENV || {};window.PLOTLYENV.BASE_URL=\"https://plot.ly\";Plotly.newPlot(\"9f3f3b01-8877-46fc-b5e0-54544eef267d\", [{\"type\": \"box\", \"y\": [85, 38, 87, 22, 43, 34, 40, 56, 44, 27, 35, 52, 62, 30, 24, 25, 45, 31, 74, 44, 23, 40, 83, 79, 67, 33, 58, 25, 43, 46, 29, 52, 50, 30, 54, 20, 35, 57, 23, 41, 33, 41, 49, 40, 91, 18, 29, 62, 77, 31, 82, 48, 41, 24, 75, 67, 46, 19, 74, 63, 24, 54, 47, 35, 25, 61, 69, 22, 39, 40, 33, 43, 34, 61, 43, 62, 32, 23, 31, 43, 30, 88, 18, 19, 34, 24, 21, 27, 52, 57, 70, 65, 57, 29, 61, 66, 38, 41, 45, 56, 25, 27, 44, 27, 56, 28, 31, 53, 53, 30, 28, 37, 27, 29, 36, 24, 24, 19, 21, 30, 27, 66, 52, 19, 51, 51, 63, 52, 34, 39, 50, 26, 61, 45, 34, 44, 30, 61, 22, 44, 45, 32, 61, 35, 63, 45, 73], \"name\": \"Group 1\"}, {\"type\": \"box\", \"y\": [41, 29, 55, 31, 31, 60, 45, 30, 46, 34, 49, 24, 36, 53, 75, 40, 49, 59, 28, 48, 21, 19, 83, 29, 23, 25, 76, 27, 31, 68, 61, 53, 58, 58, 37, 22, 33, 46, 53, 64, 36, 67, 60, 47, 42, 49, 18, 62, 61, 30, 19, 19, 41, 51, 36, 37, 28, 36, 26, 34, 27, 24, 35, 32, 42, 54, 77, 92, 60, 38, 36, 87, 30, 22, 68, 65, 45, 36, 33, 28, 24, 47, 31, 24, 66, 30, 21, 27, 77, 66, 63, 32, 89, 25, 58, 25, 35, 31, 31, 60, 43, 54, 39, 80, 48, 26, 58, 46, 30, 41, 30, 27, 39, 48, 60, 75, 42, 38, 61, 62, 30, 38, 23, 24, 52, 73, 60, 58, 53, 54, 32, 23, 47, 20, 62, 75, 41, 34, 87, 32, 21, 28, 56, 26], \"name\": \"Group 2\"}, {\"type\": \"box\", \"y\": [73, 37, 28, 60, 57, 36, 64, 19, 30, 18, 35, 29, 30, 44, 21, 71, 35, 46, 63, 57, 36, 46, 18, 36, 25, 53, 64, 45, 70, 65, 66, 90, 28, 19, 37, 27, 32, 24, 25, 42, 31, 24, 27, 71, 22, 46, 52, 30, 43, 48, 37, 61, 45, 75, 40, 53, 50, 29, 56, 34, 56, 24, 24, 39, 34, 40, 36, 47, 36, 23, 52, 28, 41, 61, 88, 26, 32, 55, 67, 34, 25, 32, 63, 50, 25, 68, 77, 75, 43, 67, 62, 57, 82, 34, 43, 32, 42, 26, 49, 29, 52, 55, 24, 67, 77, 54, 51, 43, 62, 44, 63, 72, 25, 41, 68, 35, 27, 52, 21, 49, 28, 38, 48, 48, 44, 75, 30, 54, 37, 61, 39, 37, 55, 38, 27, 65, 34, 25, 27, 35, 34, 88, 62, 25, 45, 24, 30, 60, 67, 44, 56, 42, 25, 32, 36, 28, 76, 87, 37], \"name\": \"Group 3\"}], {\"xaxis\": {\"title\": \"Group\"}, \"yaxis\": {\"title\": \"Age(years)\"}}, {\"showLink\": true, \"linkText\": \"Export to plot.ly\"})});</script>"
      ]
     },
     "metadata": {},
     "output_type": "display_data"
    }
   ],
   "source": [
    "iplot(go.Figure(data=[g1, g2, g3], layout=boxlayout))"
   ]
  },
  {
   "cell_type": "markdown",
   "metadata": {},
   "source": [
    "##### To compare the distribution of gender among the three treatment groups, we'll look at a two-way table of conditional percents"
   ]
  },
  {
   "cell_type": "code",
   "execution_count": 48,
   "metadata": {},
   "outputs": [
    {
     "data": {
      "text/html": [
       "<div>\n",
       "<style scoped>\n",
       "    .dataframe tbody tr th:only-of-type {\n",
       "        vertical-align: middle;\n",
       "    }\n",
       "\n",
       "    .dataframe tbody tr th {\n",
       "        vertical-align: top;\n",
       "    }\n",
       "\n",
       "    .dataframe thead th {\n",
       "        text-align: right;\n",
       "    }\n",
       "</style>\n",
       "<table border=\"1\" class=\"dataframe\">\n",
       "  <thead>\n",
       "    <tr style=\"text-align: right;\">\n",
       "      <th>Gender</th>\n",
       "      <th>Female</th>\n",
       "      <th>Male</th>\n",
       "    </tr>\n",
       "    <tr>\n",
       "      <th>group</th>\n",
       "      <th></th>\n",
       "      <th></th>\n",
       "    </tr>\n",
       "  </thead>\n",
       "  <tbody>\n",
       "    <tr>\n",
       "      <th>1</th>\n",
       "      <td>62</td>\n",
       "      <td>85</td>\n",
       "    </tr>\n",
       "    <tr>\n",
       "      <th>2</th>\n",
       "      <td>61</td>\n",
       "      <td>83</td>\n",
       "    </tr>\n",
       "    <tr>\n",
       "      <th>3</th>\n",
       "      <td>82</td>\n",
       "      <td>77</td>\n",
       "    </tr>\n",
       "  </tbody>\n",
       "</table>\n",
       "</div>"
      ],
      "text/plain": [
       "Gender  Female  Male\n",
       "group               \n",
       "1           62    85\n",
       "2           61    83\n",
       "3           82    77"
      ]
     },
     "execution_count": 48,
     "metadata": {},
     "output_type": "execute_result"
    }
   ],
   "source": [
    "pd.crosstab(rand_sample.group, rand_sample.Gender)"
   ]
  },
  {
   "cell_type": "markdown",
   "metadata": {},
   "source": [
    "##### To compare the distribution of comp (the hours per week of computer use) among the three treatment groups, we'll create side by side boxplots of comp by treatment"
   ]
  },
  {
   "cell_type": "code",
   "execution_count": 49,
   "metadata": {},
   "outputs": [
    {
     "data": {
      "application/vnd.plotly.v1+json": {
       "data": [
        {
         "name": "Group 1",
         "type": "box",
         "uid": "2265f1",
         "y": [
          0,
          9,
          1,
          15,
          16,
          14,
          13,
          1,
          9,
          20,
          18,
          4,
          3,
          20,
          28,
          23,
          11,
          19,
          3,
          13,
          18,
          14,
          0,
          0,
          6,
          17,
          10,
          6,
          11,
          8,
          19,
          4,
          5,
          19,
          8,
          17,
          10,
          3,
          21,
          13,
          15,
          6,
          9,
          12,
          0,
          10,
          20,
          1,
          1,
          27,
          3,
          2,
          10,
          22,
          4,
          0,
          17,
          18,
          0,
          3,
          17,
          4,
          0,
          18,
          20,
          2,
          1,
          20,
          8,
          10,
          17,
          5,
          14,
          4,
          11,
          3,
          19,
          19,
          29,
          5,
          24,
          1,
          22,
          21,
          14,
          14,
          16,
          21,
          3,
          13,
          9,
          4,
          1,
          22,
          7,
          5,
          13,
          6,
          11,
          0,
          21,
          14,
          11,
          18,
          10,
          22,
          27,
          6,
          6,
          26,
          24,
          11,
          20,
          10,
          14,
          17,
          15,
          13,
          20,
          24,
          21,
          5,
          8,
          22,
          5,
          6,
          3,
          9,
          19,
          7,
          8,
          24,
          5,
          10,
          13,
          10,
          21,
          3,
          20,
          9,
          1,
          18,
          3,
          8,
          3,
          8,
          5
         ]
        },
        {
         "name": "Group 2",
         "type": "box",
         "uid": "dea1a1",
         "y": [
          15,
          8,
          4,
          24,
          19,
          5,
          3,
          18,
          11,
          28,
          7,
          20,
          17,
          0,
          1,
          7,
          8,
          2,
          19,
          6,
          15,
          25,
          1,
          25,
          22,
          11,
          6,
          18,
          22,
          3,
          3,
          1,
          5,
          6,
          18,
          13,
          20,
          11,
          6,
          6,
          15,
          2,
          4,
          10,
          7,
          5,
          20,
          2,
          3,
          18,
          25,
          12,
          15,
          4,
          8,
          15,
          14,
          17,
          13,
          7,
          22,
          23,
          12,
          17,
          14,
          2,
          2,
          1,
          15,
          13,
          11,
          0,
          20,
          20,
          1,
          9,
          8,
          18,
          22,
          19,
          19,
          8,
          15,
          14,
          1,
          18,
          15,
          22,
          0,
          0,
          1,
          18,
          0,
          27,
          8,
          19,
          16,
          18,
          25,
          3,
          12,
          2,
          7,
          1,
          11,
          10,
          2,
          9,
          21,
          18,
          22,
          18,
          19,
          0,
          2,
          0,
          8,
          10,
          3,
          0,
          26,
          12,
          17,
          22,
          8,
          7,
          7,
          1,
          1,
          6,
          17,
          18,
          13,
          21,
          4,
          1,
          11,
          20,
          0,
          19,
          20,
          24,
          0,
          10
         ]
        },
        {
         "name": "Group 3",
         "type": "box",
         "uid": "cdf96b",
         "y": [
          2,
          9,
          21,
          6,
          3,
          18,
          6,
          12,
          27,
          22,
          8,
          20,
          25,
          13,
          12,
          0,
          15,
          9,
          6,
          4,
          17,
          5,
          16,
          14,
          20,
          4,
          1,
          8,
          5,
          1,
          1,
          1,
          18,
          23,
          13,
          14,
          23,
          9,
          21,
          11,
          18,
          25,
          12,
          7,
          20,
          10,
          2,
          24,
          5,
          16,
          8,
          4,
          7,
          3,
          14,
          8,
          6,
          23,
          0,
          18,
          1,
          16,
          15,
          18,
          14,
          7,
          14,
          9,
          15,
          19,
          7,
          8,
          17,
          2,
          0,
          29,
          21,
          3,
          4,
          11,
          14,
          18,
          3,
          17,
          19,
          1,
          0,
          1,
          7,
          2,
          4,
          11,
          0,
          13,
          8,
          26,
          10,
          16,
          6,
          27,
          5,
          12,
          13,
          2,
          0,
          11,
          5,
          8,
          13,
          19,
          0,
          1,
          10,
          6,
          9,
          12,
          13,
          15,
          15,
          5,
          24,
          15,
          13,
          11,
          23,
          0,
          21,
          3,
          14,
          5,
          14,
          11,
          7,
          10,
          15,
          0,
          25,
          13,
          16,
          5,
          12,
          0,
          0,
          16,
          19,
          16,
          17,
          2,
          0,
          12,
          1,
          11,
          18,
          19,
          15,
          23,
          2,
          1,
          17
         ]
        }
       ],
       "layout": {
        "autosize": true,
        "xaxis": {
         "autorange": true,
         "range": [
          -0.5,
          2.5
         ],
         "title": "Group",
         "type": "category"
        },
        "yaxis": {
         "autorange": true,
         "range": [
          -1.6111111111111112,
          30.61111111111111
         ],
         "title": "Computer Usage (hrs/week)",
         "type": "linear"
        }
       }
      },
      "text/html": [
       "<div id=\"b0acdd7d-1c5f-4ebe-80af-f2f5702b9acb\" style=\"height: 525px; width: 100%;\" class=\"plotly-graph-div\"></div><script type=\"text/javascript\">require([\"plotly\"], function(Plotly) { window.PLOTLYENV=window.PLOTLYENV || {};window.PLOTLYENV.BASE_URL=\"https://plot.ly\";Plotly.newPlot(\"b0acdd7d-1c5f-4ebe-80af-f2f5702b9acb\", [{\"type\": \"box\", \"y\": [0, 9, 1, 15, 16, 14, 13, 1, 9, 20, 18, 4, 3, 20, 28, 23, 11, 19, 3, 13, 18, 14, 0, 0, 6, 17, 10, 6, 11, 8, 19, 4, 5, 19, 8, 17, 10, 3, 21, 13, 15, 6, 9, 12, 0, 10, 20, 1, 1, 27, 3, 2, 10, 22, 4, 0, 17, 18, 0, 3, 17, 4, 0, 18, 20, 2, 1, 20, 8, 10, 17, 5, 14, 4, 11, 3, 19, 19, 29, 5, 24, 1, 22, 21, 14, 14, 16, 21, 3, 13, 9, 4, 1, 22, 7, 5, 13, 6, 11, 0, 21, 14, 11, 18, 10, 22, 27, 6, 6, 26, 24, 11, 20, 10, 14, 17, 15, 13, 20, 24, 21, 5, 8, 22, 5, 6, 3, 9, 19, 7, 8, 24, 5, 10, 13, 10, 21, 3, 20, 9, 1, 18, 3, 8, 3, 8, 5], \"name\": \"Group 1\"}, {\"type\": \"box\", \"y\": [15, 8, 4, 24, 19, 5, 3, 18, 11, 28, 7, 20, 17, 0, 1, 7, 8, 2, 19, 6, 15, 25, 1, 25, 22, 11, 6, 18, 22, 3, 3, 1, 5, 6, 18, 13, 20, 11, 6, 6, 15, 2, 4, 10, 7, 5, 20, 2, 3, 18, 25, 12, 15, 4, 8, 15, 14, 17, 13, 7, 22, 23, 12, 17, 14, 2, 2, 1, 15, 13, 11, 0, 20, 20, 1, 9, 8, 18, 22, 19, 19, 8, 15, 14, 1, 18, 15, 22, 0, 0, 1, 18, 0, 27, 8, 19, 16, 18, 25, 3, 12, 2, 7, 1, 11, 10, 2, 9, 21, 18, 22, 18, 19, 0, 2, 0, 8, 10, 3, 0, 26, 12, 17, 22, 8, 7, 7, 1, 1, 6, 17, 18, 13, 21, 4, 1, 11, 20, 0, 19, 20, 24, 0, 10], \"name\": \"Group 2\"}, {\"type\": \"box\", \"y\": [2, 9, 21, 6, 3, 18, 6, 12, 27, 22, 8, 20, 25, 13, 12, 0, 15, 9, 6, 4, 17, 5, 16, 14, 20, 4, 1, 8, 5, 1, 1, 1, 18, 23, 13, 14, 23, 9, 21, 11, 18, 25, 12, 7, 20, 10, 2, 24, 5, 16, 8, 4, 7, 3, 14, 8, 6, 23, 0, 18, 1, 16, 15, 18, 14, 7, 14, 9, 15, 19, 7, 8, 17, 2, 0, 29, 21, 3, 4, 11, 14, 18, 3, 17, 19, 1, 0, 1, 7, 2, 4, 11, 0, 13, 8, 26, 10, 16, 6, 27, 5, 12, 13, 2, 0, 11, 5, 8, 13, 19, 0, 1, 10, 6, 9, 12, 13, 15, 15, 5, 24, 15, 13, 11, 23, 0, 21, 3, 14, 5, 14, 11, 7, 10, 15, 0, 25, 13, 16, 5, 12, 0, 0, 16, 19, 16, 17, 2, 0, 12, 1, 11, 18, 19, 15, 23, 2, 1, 17], \"name\": \"Group 3\"}], {\"xaxis\": {\"title\": \"Group\"}, \"yaxis\": {\"title\": \"Computer Usage (hrs/week)\"}}, {\"showLink\": true, \"linkText\": \"Export to plot.ly\"})});</script>"
      ],
      "text/vnd.plotly.v1+html": [
       "<div id=\"b0acdd7d-1c5f-4ebe-80af-f2f5702b9acb\" style=\"height: 525px; width: 100%;\" class=\"plotly-graph-div\"></div><script type=\"text/javascript\">require([\"plotly\"], function(Plotly) { window.PLOTLYENV=window.PLOTLYENV || {};window.PLOTLYENV.BASE_URL=\"https://plot.ly\";Plotly.newPlot(\"b0acdd7d-1c5f-4ebe-80af-f2f5702b9acb\", [{\"type\": \"box\", \"y\": [0, 9, 1, 15, 16, 14, 13, 1, 9, 20, 18, 4, 3, 20, 28, 23, 11, 19, 3, 13, 18, 14, 0, 0, 6, 17, 10, 6, 11, 8, 19, 4, 5, 19, 8, 17, 10, 3, 21, 13, 15, 6, 9, 12, 0, 10, 20, 1, 1, 27, 3, 2, 10, 22, 4, 0, 17, 18, 0, 3, 17, 4, 0, 18, 20, 2, 1, 20, 8, 10, 17, 5, 14, 4, 11, 3, 19, 19, 29, 5, 24, 1, 22, 21, 14, 14, 16, 21, 3, 13, 9, 4, 1, 22, 7, 5, 13, 6, 11, 0, 21, 14, 11, 18, 10, 22, 27, 6, 6, 26, 24, 11, 20, 10, 14, 17, 15, 13, 20, 24, 21, 5, 8, 22, 5, 6, 3, 9, 19, 7, 8, 24, 5, 10, 13, 10, 21, 3, 20, 9, 1, 18, 3, 8, 3, 8, 5], \"name\": \"Group 1\"}, {\"type\": \"box\", \"y\": [15, 8, 4, 24, 19, 5, 3, 18, 11, 28, 7, 20, 17, 0, 1, 7, 8, 2, 19, 6, 15, 25, 1, 25, 22, 11, 6, 18, 22, 3, 3, 1, 5, 6, 18, 13, 20, 11, 6, 6, 15, 2, 4, 10, 7, 5, 20, 2, 3, 18, 25, 12, 15, 4, 8, 15, 14, 17, 13, 7, 22, 23, 12, 17, 14, 2, 2, 1, 15, 13, 11, 0, 20, 20, 1, 9, 8, 18, 22, 19, 19, 8, 15, 14, 1, 18, 15, 22, 0, 0, 1, 18, 0, 27, 8, 19, 16, 18, 25, 3, 12, 2, 7, 1, 11, 10, 2, 9, 21, 18, 22, 18, 19, 0, 2, 0, 8, 10, 3, 0, 26, 12, 17, 22, 8, 7, 7, 1, 1, 6, 17, 18, 13, 21, 4, 1, 11, 20, 0, 19, 20, 24, 0, 10], \"name\": \"Group 2\"}, {\"type\": \"box\", \"y\": [2, 9, 21, 6, 3, 18, 6, 12, 27, 22, 8, 20, 25, 13, 12, 0, 15, 9, 6, 4, 17, 5, 16, 14, 20, 4, 1, 8, 5, 1, 1, 1, 18, 23, 13, 14, 23, 9, 21, 11, 18, 25, 12, 7, 20, 10, 2, 24, 5, 16, 8, 4, 7, 3, 14, 8, 6, 23, 0, 18, 1, 16, 15, 18, 14, 7, 14, 9, 15, 19, 7, 8, 17, 2, 0, 29, 21, 3, 4, 11, 14, 18, 3, 17, 19, 1, 0, 1, 7, 2, 4, 11, 0, 13, 8, 26, 10, 16, 6, 27, 5, 12, 13, 2, 0, 11, 5, 8, 13, 19, 0, 1, 10, 6, 9, 12, 13, 15, 15, 5, 24, 15, 13, 11, 23, 0, 21, 3, 14, 5, 14, 11, 7, 10, 15, 0, 25, 13, 16, 5, 12, 0, 0, 16, 19, 16, 17, 2, 0, 12, 1, 11, 18, 19, 15, 23, 2, 1, 17], \"name\": \"Group 3\"}], {\"xaxis\": {\"title\": \"Group\"}, \"yaxis\": {\"title\": \"Computer Usage (hrs/week)\"}}, {\"showLink\": true, \"linkText\": \"Export to plot.ly\"})});</script>"
      ]
     },
     "metadata": {},
     "output_type": "display_data"
    }
   ],
   "source": [
    "g1 = go.Box(y=rand_sample[rand_sample.group == 1].Comp, name=\"Group 1\")\n",
    "g2 = go.Box(y=rand_sample[rand_sample.group == 2].Comp, name=\"Group 2\")\n",
    "g3 = go.Box(y=rand_sample[rand_sample.group == 3].Comp, name=\"Group 3\")\n",
    "\n",
    "boxlayout = {\n",
    "    'xaxis': {'title': 'Group'},\n",
    "    'yaxis': {'title': 'Computer Usage (hrs/week)'}\n",
    "}\n",
    "\n",
    "iplot(go.Figure(data=[g1, g2, g3], layout=boxlayout))"
   ]
  },
  {
   "cell_type": "markdown",
   "metadata": {},
   "source": [
    "##### Are the distributions of age, gender, and comp in the three treatment groups similar?"
   ]
  },
  {
   "cell_type": "markdown",
   "metadata": {},
   "source": [
    "Everyone will get slightly different displays here, but they should all \"look\" about the same. Based upon the side-by-side boxplots, the distribution of ages and hours per week of computer use appears the same in each of the three treatment groups. Similarly, the table of conditional percents suggests that the distribution of the genders is about the same in all three treatment groups."
   ]
  },
  {
   "cell_type": "markdown",
   "metadata": {},
   "source": [
    "## StatTutor Lab: Treating Depression: A Randomized Clinical Trial"
   ]
  },
  {
   "cell_type": "markdown",
   "metadata": {},
   "source": [
    "**Background:** Clinical depression is a recurrent illness requiring treatment and often hospitalization. Nearly 50% of people who have an episode of major depression will have a recurrence within 2-3 years. Being able to prevent the recurrence of depression in people who are at risk for the disease would go a long way to alleviate the pain and suffering of patients and would also save society many thousands of dollars in medical expenses and lost wages due to an inability to work.\n",
    "\n",
    "**The Study:** During the 1980's the federal government, through the National Institutes of Health (NIH), sponsored a multi-centered, randomized, controlled, clinical trial to evaluate two drugs to prevent the recurrence of depression in patients who have had at least one previous episode of the illness (Prien et al., Archives of General Psychiatry, 1984). \n",
    "\n",
    "**The Study Design:** The study was multi-centered. There were 5 medical clinics in major metropolitan areas across the country that participated in this trial. Using many clinics enabled the investigators to enroll many more patients into the study and allowed for more diversity in the patients who participated. There were 3 treatment groups. Patients received either Imipramine (Imip), Lithium (Li), or a Placebo (Pl) where Imip and Li are active drugs. Patients were randomly assigned to one of the 3 treatment groups. Like most other medical studies where new, unexplored treatments are evaluated, patients chose themselves to participate in the study by signing a consent form. Patients were followed for 2-4 years to see whether or not they had a recurrence of depression. If they did not have a recurrence within this time frame, then their treatment was considered a Success. If they did have a recurrence, it was considered a Failure. The study was double-blinded. A number of additional background variables were measured for each patient."
   ]
  },
  {
   "cell_type": "code",
   "execution_count": 50,
   "metadata": {},
   "outputs": [
    {
     "data": {
      "text/html": [
       "<script>requirejs.config({paths: { 'plotly': ['https://cdn.plot.ly/plotly-latest.min']},});if(!window.Plotly) {{require(['plotly'],function(plotly) {window.Plotly=plotly;});}}</script>"
      ],
      "text/vnd.plotly.v1+html": [
       "<script>requirejs.config({paths: { 'plotly': ['https://cdn.plot.ly/plotly-latest.min']},});if(!window.Plotly) {{require(['plotly'],function(plotly) {window.Plotly=plotly;});}}</script>"
      ]
     },
     "metadata": {},
     "output_type": "display_data"
    }
   ],
   "source": [
    "import pandas as pd\n",
    "import numpy as np\n",
    "import plotly.graph_objs as go\n",
    "from plotly.offline import iplot, init_notebook_mode\n",
    "\n",
    "init_notebook_mode(True)"
   ]
  },
  {
   "cell_type": "markdown",
   "metadata": {},
   "source": [
    "### Understand Data"
   ]
  },
  {
   "cell_type": "markdown",
   "metadata": {},
   "source": [
    "#### Check Data Format"
   ]
  },
  {
   "cell_type": "code",
   "execution_count": 51,
   "metadata": {},
   "outputs": [
    {
     "data": {
      "text/html": [
       "<div>\n",
       "<style scoped>\n",
       "    .dataframe tbody tr th:only-of-type {\n",
       "        vertical-align: middle;\n",
       "    }\n",
       "\n",
       "    .dataframe tbody tr th {\n",
       "        vertical-align: top;\n",
       "    }\n",
       "\n",
       "    .dataframe thead th {\n",
       "        text-align: right;\n",
       "    }\n",
       "</style>\n",
       "<table border=\"1\" class=\"dataframe\">\n",
       "  <thead>\n",
       "    <tr style=\"text-align: right;\">\n",
       "      <th></th>\n",
       "      <th>Hospt</th>\n",
       "      <th>Treat</th>\n",
       "      <th>Outcome</th>\n",
       "      <th>Time</th>\n",
       "      <th>AcuteT</th>\n",
       "      <th>Age</th>\n",
       "      <th>Gender</th>\n",
       "    </tr>\n",
       "  </thead>\n",
       "  <tbody>\n",
       "    <tr>\n",
       "      <th>0</th>\n",
       "      <td>1</td>\n",
       "      <td>0</td>\n",
       "      <td>1</td>\n",
       "      <td>36.143002</td>\n",
       "      <td>211</td>\n",
       "      <td>33</td>\n",
       "      <td>1</td>\n",
       "    </tr>\n",
       "    <tr>\n",
       "      <th>1</th>\n",
       "      <td>1</td>\n",
       "      <td>1</td>\n",
       "      <td>0</td>\n",
       "      <td>105.142998</td>\n",
       "      <td>176</td>\n",
       "      <td>49</td>\n",
       "      <td>1</td>\n",
       "    </tr>\n",
       "    <tr>\n",
       "      <th>2</th>\n",
       "      <td>1</td>\n",
       "      <td>1</td>\n",
       "      <td>0</td>\n",
       "      <td>74.570999</td>\n",
       "      <td>191</td>\n",
       "      <td>50</td>\n",
       "      <td>1</td>\n",
       "    </tr>\n",
       "    <tr>\n",
       "      <th>3</th>\n",
       "      <td>1</td>\n",
       "      <td>0</td>\n",
       "      <td>1</td>\n",
       "      <td>49.714001</td>\n",
       "      <td>206</td>\n",
       "      <td>29</td>\n",
       "      <td>2</td>\n",
       "    </tr>\n",
       "    <tr>\n",
       "      <th>4</th>\n",
       "      <td>1</td>\n",
       "      <td>0</td>\n",
       "      <td>0</td>\n",
       "      <td>14.429000</td>\n",
       "      <td>63</td>\n",
       "      <td>29</td>\n",
       "      <td>1</td>\n",
       "    </tr>\n",
       "  </tbody>\n",
       "</table>\n",
       "</div>"
      ],
      "text/plain": [
       "   Hospt  Treat  Outcome        Time  AcuteT  Age  Gender\n",
       "0      1      0        1   36.143002     211   33       1\n",
       "1      1      1        0  105.142998     176   49       1\n",
       "2      1      1        0   74.570999     191   50       1\n",
       "3      1      0        1   49.714001     206   29       2\n",
       "4      1      0        0   14.429000      63   29       1"
      ]
     },
     "execution_count": 51,
     "metadata": {},
     "output_type": "execute_result"
    }
   ],
   "source": [
    "depression = pd.read_excel('files/depression.xls')\n",
    "depression.head()"
   ]
  },
  {
   "cell_type": "markdown",
   "metadata": {},
   "source": [
    "**Hospt:** Which hospital the patient was from: Labeled 1, 2, 3, 5 or 6  \n",
    "**Treat:** 0=Lithium; 1=Imipramine; 2=Placebo  \n",
    "**Outcome:** 0=Success 1=Failure (recurrence of depression)  \n",
    "**Time:** Number of weeks until a recurrence (if outcome=1) or until study ended (if outcome=0)  \n",
    "**AcuteT:** How long the patient was depressed before the start of the current study, measured in days  \n",
    "**Age:** Age in years  \n",
    "**Gender:** 1=Female 2=Male  \n",
    "\n",
    "Out of the first ten individuals in the datafile, how many had a recurrence of depression during the study?"
   ]
  },
  {
   "cell_type": "code",
   "execution_count": 52,
   "metadata": {},
   "outputs": [
    {
     "data": {
      "text/plain": [
       "5"
      ]
     },
     "execution_count": 52,
     "metadata": {},
     "output_type": "execute_result"
    }
   ],
   "source": [
    "depression.Outcome[:10].sum()"
   ]
  },
  {
   "cell_type": "markdown",
   "metadata": {},
   "source": [
    "Out of the first ten individuals in the datafile who were assigned to the Lithium treatment group, how many had a recurrence of depression during the study?"
   ]
  },
  {
   "cell_type": "code",
   "execution_count": 53,
   "metadata": {},
   "outputs": [
    {
     "data": {
      "text/plain": [
       "5"
      ]
     },
     "execution_count": 53,
     "metadata": {},
     "output_type": "execute_result"
    }
   ],
   "source": [
    "depression[depression.Treat == 0].Outcome[:10].sum()"
   ]
  },
  {
   "cell_type": "markdown",
   "metadata": {},
   "source": [
    "How many days was the first male in the datafile depressed before the start of the study?"
   ]
  },
  {
   "cell_type": "code",
   "execution_count": 54,
   "metadata": {},
   "outputs": [
    {
     "data": {
      "text/plain": [
       "206.0"
      ]
     },
     "execution_count": 54,
     "metadata": {},
     "output_type": "execute_result"
    }
   ],
   "source": [
    "depression[depression.Gender == 2].iloc[0].AcuteT"
   ]
  },
  {
   "cell_type": "markdown",
   "metadata": {},
   "source": [
    "#### Consider Study Design\n",
    "The next step in understanding the problem is addressing the issues of sampling and study design, which have implications on the generalizability of the results and the type of conclusions you can draw from them.\n",
    "\n",
    "This study is an  **experiment**\n",
    "\n",
    "Sampling:\n",
    "The patients that were recruited to this study all had at least one prior episode of depression and volunteered to participate in the study by signing a consent form.\n"
   ]
  },
  {
   "cell_type": "markdown",
   "metadata": {},
   "source": [
    "##### Thought Question\n",
    "Subjects were randomly assigned to the different treatments. Randomization is supposed to assign approximately equal numbers of subjects to each treatment group as well as \"balance\" variables that we did not control for (such as AcuteT, Age, Gender) among the 3 treatment groups. Now we'll check whether the randomization in this case was effective in achieving these goals."
   ]
  },
  {
   "cell_type": "markdown",
   "metadata": {},
   "source": [
    "_a) Was the randomization effective in assigning an approximately equal number of patients to each treatment group? Explain._"
   ]
  },
  {
   "cell_type": "code",
   "execution_count": 55,
   "metadata": {},
   "outputs": [
    {
     "data": {
      "text/plain": [
       "Treat\n",
       "0    37\n",
       "1    38\n",
       "2    34\n",
       "Name: Treat, dtype: int64"
      ]
     },
     "execution_count": 55,
     "metadata": {},
     "output_type": "execute_result"
    }
   ],
   "source": [
    "depression.groupby('Treat').Treat.count()"
   ]
  },
  {
   "cell_type": "markdown",
   "metadata": {},
   "source": [
    "_b) Was the randomization successful in balancing other variables such as AcuteT? Answer by comparing the distributions (boxplots) of AcuteT in the three treatment groups._"
   ]
  },
  {
   "cell_type": "code",
   "execution_count": 56,
   "metadata": {},
   "outputs": [
    {
     "data": {
      "application/vnd.plotly.v1+json": {
       "data": [
        {
         "name": "Lithium",
         "type": "box",
         "uid": "118f21",
         "x": [
          211,
          206,
          63,
          55,
          197,
          227,
          194,
          173,
          48,
          148,
          127,
          239,
          274,
          98,
          77,
          280,
          182,
          122,
          114,
          110,
          294,
          139,
          105,
          160,
          146,
          237,
          146,
          441,
          86,
          201,
          86,
          214,
          285,
          204,
          140,
          182,
          176
         ]
        },
        {
         "name": "Imapramine",
         "type": "box",
         "uid": "5e120a",
         "x": [
          176,
          191,
          165,
          129,
          428,
          256,
          168,
          47,
          95,
          234,
          322,
          141,
          147,
          348,
          130,
          90,
          159,
          115,
          214,
          224,
          147,
          138,
          196,
          372,
          131,
          105,
          140,
          175,
          195,
          130,
          209,
          72,
          148,
          212,
          168,
          305,
          154,
          203
         ]
        },
        {
         "name": "Placebo",
         "type": "box",
         "uid": "d6e997",
         "x": [
          70,
          512,
          162,
          306,
          129,
          182,
          90,
          177,
          165,
          167,
          181,
          399,
          289,
          343,
          249,
          140,
          162,
          140,
          246,
          146,
          187,
          136,
          147,
          160,
          261,
          476,
          238,
          133,
          128,
          139,
          141,
          162,
          207,
          102
         ]
        }
       ],
       "layout": {
        "autosize": true,
        "xaxis": {
         "autorange": true,
         "range": [
          21.16666666666666,
          537.8333333333334
         ],
         "type": "linear"
        },
        "yaxis": {
         "autorange": true,
         "range": [
          -0.5,
          2.5
         ],
         "type": "category"
        }
       }
      },
      "text/html": [
       "<div id=\"c121130d-ba05-417a-bcb5-5805f18cf9cd\" style=\"height: 525px; width: 100%;\" class=\"plotly-graph-div\"></div><script type=\"text/javascript\">require([\"plotly\"], function(Plotly) { window.PLOTLYENV=window.PLOTLYENV || {};window.PLOTLYENV.BASE_URL=\"https://plot.ly\";Plotly.newPlot(\"c121130d-ba05-417a-bcb5-5805f18cf9cd\", [{\"type\": \"box\", \"x\": [211, 206, 63, 55, 197, 227, 194, 173, 48, 148, 127, 239, 274, 98, 77, 280, 182, 122, 114, 110, 294, 139, 105, 160, 146, 237, 146, 441, 86, 201, 86, 214, 285, 204, 140, 182, 176], \"name\": \"Lithium\"}, {\"type\": \"box\", \"x\": [176, 191, 165, 129, 428, 256, 168, 47, 95, 234, 322, 141, 147, 348, 130, 90, 159, 115, 214, 224, 147, 138, 196, 372, 131, 105, 140, 175, 195, 130, 209, 72, 148, 212, 168, 305, 154, 203], \"name\": \"Imapramine\"}, {\"type\": \"box\", \"x\": [70, 512, 162, 306, 129, 182, 90, 177, 165, 167, 181, 399, 289, 343, 249, 140, 162, 140, 246, 146, 187, 136, 147, 160, 261, 476, 238, 133, 128, 139, 141, 162, 207, 102], \"name\": \"Placebo\"}], {}, {\"showLink\": true, \"linkText\": \"Export to plot.ly\"})});</script>"
      ],
      "text/vnd.plotly.v1+html": [
       "<div id=\"c121130d-ba05-417a-bcb5-5805f18cf9cd\" style=\"height: 525px; width: 100%;\" class=\"plotly-graph-div\"></div><script type=\"text/javascript\">require([\"plotly\"], function(Plotly) { window.PLOTLYENV=window.PLOTLYENV || {};window.PLOTLYENV.BASE_URL=\"https://plot.ly\";Plotly.newPlot(\"c121130d-ba05-417a-bcb5-5805f18cf9cd\", [{\"type\": \"box\", \"x\": [211, 206, 63, 55, 197, 227, 194, 173, 48, 148, 127, 239, 274, 98, 77, 280, 182, 122, 114, 110, 294, 139, 105, 160, 146, 237, 146, 441, 86, 201, 86, 214, 285, 204, 140, 182, 176], \"name\": \"Lithium\"}, {\"type\": \"box\", \"x\": [176, 191, 165, 129, 428, 256, 168, 47, 95, 234, 322, 141, 147, 348, 130, 90, 159, 115, 214, 224, 147, 138, 196, 372, 131, 105, 140, 175, 195, 130, 209, 72, 148, 212, 168, 305, 154, 203], \"name\": \"Imapramine\"}, {\"type\": \"box\", \"x\": [70, 512, 162, 306, 129, 182, 90, 177, 165, 167, 181, 399, 289, 343, 249, 140, 162, 140, 246, 146, 187, 136, 147, 160, 261, 476, 238, 133, 128, 139, 141, 162, 207, 102], \"name\": \"Placebo\"}], {}, {\"showLink\": true, \"linkText\": \"Export to plot.ly\"})});</script>"
      ]
     },
     "metadata": {},
     "output_type": "display_data"
    },
    {
     "name": "stdout",
     "output_type": "stream",
     "text": [
      "The side-by-side boxplots reveal that the distributions of the variable AcuteT within each of the three treatment groups are very similar. All have a median of roughly 170, and no unusual or systematic differences in spread. Thus, the randomization was effective in balancing AcuteT among the three treatment groups.\n"
     ]
    }
   ],
   "source": [
    "tt0 = go.Box(x=depression[depression.Treat == 0].AcuteT, name=\"Lithium\")\n",
    "tt1 = go.Box(x=depression[depression.Treat == 1].AcuteT, name=\"Imapramine\")\n",
    "tt2 = go.Box(x=depression[depression.Treat == 2].AcuteT, name=\"Placebo\")\n",
    "\n",
    "\n",
    "iplot(go.Figure(data=[tt0, tt1, tt2]))\n",
    "\n",
    "print(\"The side-by-side boxplots reveal that the distributions of the variable AcuteT within each of the three treatment groups are very similar. All have a median of roughly 170, and no unusual or systematic differences in spread. Thus, the randomization was effective in balancing AcuteT among the three treatment groups.\")"
   ]
  },
  {
   "cell_type": "markdown",
   "metadata": {},
   "source": [
    "### Question 1. \n",
    "**Which of the drugs (if either) was more successful in preventing the recurrence of depression relative to the placebo?**"
   ]
  },
  {
   "cell_type": "markdown",
   "metadata": {},
   "source": [
    "#### Reflect on the Question\n",
    "Before analyzing the data and discovering which of the drugs was more effective, how do you think the results could be used in practice once they are obtained?\n",
    "\n",
    "Ans: The results can be used by the FDA (Food and Drug Administration) to make an informed decision about the usage and safety of medicines"
   ]
  },
  {
   "cell_type": "markdown",
   "metadata": {},
   "source": [
    "#### Analyze Data"
   ]
  },
  {
   "cell_type": "markdown",
   "metadata": {},
   "source": [
    "_Which variable(s) among those listed below is/are particularly relevant to the current question?_\n",
    "Treat and Outcome"
   ]
  },
  {
   "cell_type": "markdown",
   "metadata": {},
   "source": [
    "The variable **Treat** is **explanatory** variable and is **categorical**\n",
    "The variable **Outcome** is **response** variable and is **categorical**"
   ]
  },
  {
   "cell_type": "markdown",
   "metadata": {},
   "source": [
    "A meaningful display is: **Two-way Table** (C -> C)"
   ]
  },
  {
   "cell_type": "markdown",
   "metadata": {},
   "source": [
    "A meaningful numerical summary to supplement the above display is **Conditional Percentages**"
   ]
  },
  {
   "cell_type": "markdown",
   "metadata": {},
   "source": [
    "Using this display and numerical summary, I will **examine the relationship between two categorical variables**"
   ]
  },
  {
   "cell_type": "code",
   "execution_count": 75,
   "metadata": {},
   "outputs": [
    {
     "data": {
      "text/html": [
       "<div>\n",
       "<style scoped>\n",
       "    .dataframe tbody tr th:only-of-type {\n",
       "        vertical-align: middle;\n",
       "    }\n",
       "\n",
       "    .dataframe tbody tr th {\n",
       "        vertical-align: top;\n",
       "    }\n",
       "\n",
       "    .dataframe thead th {\n",
       "        text-align: right;\n",
       "    }\n",
       "</style>\n",
       "<table border=\"1\" class=\"dataframe\">\n",
       "  <thead>\n",
       "    <tr style=\"text-align: right;\">\n",
       "      <th>Outcome</th>\n",
       "      <th>0</th>\n",
       "      <th>1</th>\n",
       "      <th>Total</th>\n",
       "    </tr>\n",
       "    <tr>\n",
       "      <th>Treat</th>\n",
       "      <th></th>\n",
       "      <th></th>\n",
       "      <th></th>\n",
       "    </tr>\n",
       "  </thead>\n",
       "  <tbody>\n",
       "    <tr>\n",
       "      <th>0</th>\n",
       "      <td>14</td>\n",
       "      <td>23</td>\n",
       "      <td>37</td>\n",
       "    </tr>\n",
       "    <tr>\n",
       "      <th>1</th>\n",
       "      <td>27</td>\n",
       "      <td>11</td>\n",
       "      <td>38</td>\n",
       "    </tr>\n",
       "    <tr>\n",
       "      <th>2</th>\n",
       "      <td>11</td>\n",
       "      <td>23</td>\n",
       "      <td>34</td>\n",
       "    </tr>\n",
       "    <tr>\n",
       "      <th>Total</th>\n",
       "      <td>52</td>\n",
       "      <td>57</td>\n",
       "      <td>109</td>\n",
       "    </tr>\n",
       "  </tbody>\n",
       "</table>\n",
       "</div>"
      ],
      "text/plain": [
       "Outcome   0   1  Total\n",
       "Treat                 \n",
       "0        14  23     37\n",
       "1        27  11     38\n",
       "2        11  23     34\n",
       "Total    52  57    109"
      ]
     },
     "execution_count": 75,
     "metadata": {},
     "output_type": "execute_result"
    }
   ],
   "source": [
    "table = pd.crosstab(depression.Treat, depression.Outcome, margins=True, margins_name='Total')\n",
    "table"
   ]
  },
  {
   "cell_type": "code",
   "execution_count": 78,
   "metadata": {},
   "outputs": [
    {
     "data": {
      "text/html": [
       "<div>\n",
       "<style scoped>\n",
       "    .dataframe tbody tr th:only-of-type {\n",
       "        vertical-align: middle;\n",
       "    }\n",
       "\n",
       "    .dataframe tbody tr th {\n",
       "        vertical-align: top;\n",
       "    }\n",
       "\n",
       "    .dataframe thead th {\n",
       "        text-align: right;\n",
       "    }\n",
       "</style>\n",
       "<table border=\"1\" class=\"dataframe\">\n",
       "  <thead>\n",
       "    <tr style=\"text-align: right;\">\n",
       "      <th>Outcome</th>\n",
       "      <th>0</th>\n",
       "      <th>1</th>\n",
       "      <th>Total</th>\n",
       "    </tr>\n",
       "    <tr>\n",
       "      <th>Treat</th>\n",
       "      <th></th>\n",
       "      <th></th>\n",
       "      <th></th>\n",
       "    </tr>\n",
       "  </thead>\n",
       "  <tbody>\n",
       "    <tr>\n",
       "      <th>0</th>\n",
       "      <td>37.837838</td>\n",
       "      <td>62.162162</td>\n",
       "      <td>100.0</td>\n",
       "    </tr>\n",
       "    <tr>\n",
       "      <th>1</th>\n",
       "      <td>71.052632</td>\n",
       "      <td>28.947368</td>\n",
       "      <td>100.0</td>\n",
       "    </tr>\n",
       "    <tr>\n",
       "      <th>2</th>\n",
       "      <td>32.352941</td>\n",
       "      <td>67.647059</td>\n",
       "      <td>100.0</td>\n",
       "    </tr>\n",
       "    <tr>\n",
       "      <th>Total</th>\n",
       "      <td>47.706422</td>\n",
       "      <td>52.293578</td>\n",
       "      <td>100.0</td>\n",
       "    </tr>\n",
       "  </tbody>\n",
       "</table>\n",
       "</div>"
      ],
      "text/plain": [
       "Outcome          0          1  Total\n",
       "Treat                               \n",
       "0        37.837838  62.162162  100.0\n",
       "1        71.052632  28.947368  100.0\n",
       "2        32.352941  67.647059  100.0\n",
       "Total    47.706422  52.293578  100.0"
      ]
     },
     "execution_count": 78,
     "metadata": {},
     "output_type": "execute_result"
    }
   ],
   "source": [
    "table.div(table['Total'], axis=0) * 100"
   ]
  },
  {
   "cell_type": "markdown",
   "metadata": {},
   "source": [
    "The percentage of patients that had a recurrence of depression is: 62.16% in the Lithium treatment group, 28.95% in the Imipramine treatment group, and 67.65% in the Placebo group."
   ]
  },
  {
   "cell_type": "markdown",
   "metadata": {},
   "source": [
    "**Answer:** The results clearly reveal that Imipramine is by far more effective than Lithium in preventing the recurrence of depression. 62.16% of the patients taking Lithium had a recurrence of depression which is more than twice that of patients who took Imipramine (28.95%). \n",
    "\n",
    "The results also question the effectiveness of Lithium in general since the percentage of patients who had a recurrence of depression in the Placebo group (67.65%) is only slightly higher than that of the Lithium group (62.16%)."
   ]
  },
  {
   "cell_type": "markdown",
   "metadata": {},
   "source": [
    "Imapramine should be considered for treating depression. Lithium should be avoided as it has only marginally more success rate as compared to placebo"
   ]
  },
  {
   "cell_type": "markdown",
   "metadata": {},
   "source": [
    "### Question 2:\n",
    "**Which of the drugs (if either) delayed the recurrence of depression longer relative to the placebo?**"
   ]
  },
  {
   "cell_type": "markdown",
   "metadata": {},
   "source": [
    "#### Reflect on the Question\n",
    "Before analyzing the data and discovering which of the drugs was more effective in delaying the recurrence of depression, try to predict what the data will show\n",
    "\n",
    "Ans: Given the results of the first question, we can expect that Imipramine would be the most effective drug in delaying the recurrence of depression."
   ]
  },
  {
   "cell_type": "markdown",
   "metadata": {},
   "source": [
    "#### Analyze Data"
   ]
  },
  {
   "cell_type": "markdown",
   "metadata": {},
   "source": [
    "_Which variable(s) among those listed below is/are particularly relevant to the current question?_"
   ]
  },
  {
   "cell_type": "markdown",
   "metadata": {},
   "source": [
    "The variable **Treat** is **explanatory** variable and is **categorical**\n",
    "The variable **Time** is **response** variable and is **quantitative**"
   ]
  },
  {
   "cell_type": "markdown",
   "metadata": {},
   "source": [
    "A meaningful display is: **Side-by-Side Boxplots**"
   ]
  },
  {
   "cell_type": "markdown",
   "metadata": {},
   "source": [
    "A meaningful numerical summary to supplement the above display is **descriptive statistics**"
   ]
  },
  {
   "cell_type": "markdown",
   "metadata": {},
   "source": [
    "Using this display and numerical summary, I will **compare distribution of one quantitative varibale over multiple groups**"
   ]
  },
  {
   "cell_type": "code",
   "execution_count": 81,
   "metadata": {},
   "outputs": [
    {
     "data": {
      "application/vnd.plotly.v1+json": {
       "data": [
        {
         "name": "Lithium",
         "type": "box",
         "uid": "c1f980",
         "x": [
          36.14300156,
          49.7140007,
          14.4289999,
          104.8570023,
          105.8570023,
          5.571000099,
          16.2859993,
          1.286000013,
          2.142999887,
          4,
          74.14299774,
          78.42900085,
          79,
          9,
          3.286000013,
          30,
          3.286000013,
          19.7140007,
          71.71399689,
          50.85699844,
          36.2859993,
          165,
          124.5709991,
          68,
          42,
          37.85699844,
          0.2860000134,
          22,
          5.428999901,
          67,
          6.285999775,
          5.285999775,
          0.8569999933,
          46.2859993,
          0.57099998,
          6.428999901,
          2
         ]
        },
        {
         "name": "Imapramine",
         "type": "box",
         "uid": "8df3f6",
         "x": [
          105.1429977,
          74.57099915,
          106.4290009,
          105.1429977,
          83,
          27.2859993,
          98,
          100,
          27.14299965,
          17.42900085,
          78,
          66.85700226,
          78.14299774,
          15.85700035,
          32.57099915,
          206,
          1.57099998,
          126.7139969,
          155,
          39.57099915,
          28,
          38,
          111.5709991,
          3.428999901,
          26,
          92.71399689,
          106.7139969,
          75,
          86,
          3.428999901,
          5,
          1,
          109.5709991,
          0.57099998,
          9.142999649,
          102,
          31.85700035,
          22
         ]
        },
        {
         "name": "Placebo",
         "type": "box",
         "uid": "0d66c7",
         "x": [
          5,
          2.857000113,
          102.4290009,
          55.7140007,
          104.8570023,
          0.1430000067,
          1.42900002,
          45.85699844,
          78.42900085,
          7.143000126,
          31,
          17.2859993,
          0.1430000067,
          8,
          63.7140007,
          96.28600311,
          102.5709991,
          8.142999649,
          16,
          39.57099915,
          131,
          11.14299965,
          115,
          44,
          77.85700226,
          12.4289999,
          3.428999901,
          6.571000099,
          1,
          45,
          4.714000225,
          0,
          20.85700035,
          18.2859993
         ]
        }
       ],
       "layout": {
        "autosize": true,
        "xaxis": {
         "autorange": true,
         "range": [
          -11.444444444444446,
          217.44444444444446
         ],
         "type": "linear"
        },
        "yaxis": {
         "autorange": true,
         "range": [
          -0.5,
          2.5
         ],
         "type": "category"
        }
       }
      },
      "text/html": [
       "<div id=\"0516ca5a-a6ca-4350-901a-cd388eb9f4c1\" style=\"height: 525px; width: 100%;\" class=\"plotly-graph-div\"></div><script type=\"text/javascript\">require([\"plotly\"], function(Plotly) { window.PLOTLYENV=window.PLOTLYENV || {};window.PLOTLYENV.BASE_URL=\"https://plot.ly\";Plotly.newPlot(\"0516ca5a-a6ca-4350-901a-cd388eb9f4c1\", [{\"type\": \"box\", \"x\": [36.14300156, 49.7140007, 14.4289999, 104.8570023, 105.8570023, 5.571000099, 16.2859993, 1.286000013, 2.142999887, 4.0, 74.14299774, 78.42900085, 79.0, 9.0, 3.286000013, 30.0, 3.286000013, 19.7140007, 71.71399689, 50.85699844, 36.2859993, 165.0, 124.5709991, 68.0, 42.0, 37.85699844, 0.2860000134, 22.0, 5.428999901, 67.0, 6.285999775, 5.285999775, 0.8569999933, 46.2859993, 0.57099998, 6.428999901, 2.0], \"name\": \"Lithium\"}, {\"type\": \"box\", \"x\": [105.1429977, 74.57099915, 106.4290009, 105.1429977, 83.0, 27.2859993, 98.0, 100.0, 27.14299965, 17.42900085, 78.0, 66.85700226, 78.14299774, 15.85700035, 32.57099915, 206.0, 1.57099998, 126.7139969, 155.0, 39.57099915, 28.0, 38.0, 111.5709991, 3.428999901, 26.0, 92.71399689, 106.7139969, 75.0, 86.0, 3.428999901, 5.0, 1.0, 109.5709991, 0.57099998, 9.142999649, 102.0, 31.85700035, 22.0], \"name\": \"Imapramine\"}, {\"type\": \"box\", \"x\": [5.0, 2.857000113, 102.4290009, 55.7140007, 104.8570023, 0.1430000067, 1.42900002, 45.85699844, 78.42900085, 7.143000126, 31.0, 17.2859993, 0.1430000067, 8.0, 63.7140007, 96.28600311, 102.5709991, 8.142999649, 16.0, 39.57099915, 131.0, 11.14299965, 115.0, 44.0, 77.85700226, 12.4289999, 3.428999901, 6.571000099, 1.0, 45.0, 4.714000225, 0.0, 20.85700035, 18.2859993], \"name\": \"Placebo\"}], {}, {\"showLink\": true, \"linkText\": \"Export to plot.ly\"})});</script>"
      ],
      "text/vnd.plotly.v1+html": [
       "<div id=\"0516ca5a-a6ca-4350-901a-cd388eb9f4c1\" style=\"height: 525px; width: 100%;\" class=\"plotly-graph-div\"></div><script type=\"text/javascript\">require([\"plotly\"], function(Plotly) { window.PLOTLYENV=window.PLOTLYENV || {};window.PLOTLYENV.BASE_URL=\"https://plot.ly\";Plotly.newPlot(\"0516ca5a-a6ca-4350-901a-cd388eb9f4c1\", [{\"type\": \"box\", \"x\": [36.14300156, 49.7140007, 14.4289999, 104.8570023, 105.8570023, 5.571000099, 16.2859993, 1.286000013, 2.142999887, 4.0, 74.14299774, 78.42900085, 79.0, 9.0, 3.286000013, 30.0, 3.286000013, 19.7140007, 71.71399689, 50.85699844, 36.2859993, 165.0, 124.5709991, 68.0, 42.0, 37.85699844, 0.2860000134, 22.0, 5.428999901, 67.0, 6.285999775, 5.285999775, 0.8569999933, 46.2859993, 0.57099998, 6.428999901, 2.0], \"name\": \"Lithium\"}, {\"type\": \"box\", \"x\": [105.1429977, 74.57099915, 106.4290009, 105.1429977, 83.0, 27.2859993, 98.0, 100.0, 27.14299965, 17.42900085, 78.0, 66.85700226, 78.14299774, 15.85700035, 32.57099915, 206.0, 1.57099998, 126.7139969, 155.0, 39.57099915, 28.0, 38.0, 111.5709991, 3.428999901, 26.0, 92.71399689, 106.7139969, 75.0, 86.0, 3.428999901, 5.0, 1.0, 109.5709991, 0.57099998, 9.142999649, 102.0, 31.85700035, 22.0], \"name\": \"Imapramine\"}, {\"type\": \"box\", \"x\": [5.0, 2.857000113, 102.4290009, 55.7140007, 104.8570023, 0.1430000067, 1.42900002, 45.85699844, 78.42900085, 7.143000126, 31.0, 17.2859993, 0.1430000067, 8.0, 63.7140007, 96.28600311, 102.5709991, 8.142999649, 16.0, 39.57099915, 131.0, 11.14299965, 115.0, 44.0, 77.85700226, 12.4289999, 3.428999901, 6.571000099, 1.0, 45.0, 4.714000225, 0.0, 20.85700035, 18.2859993], \"name\": \"Placebo\"}], {}, {\"showLink\": true, \"linkText\": \"Export to plot.ly\"})});</script>"
      ]
     },
     "metadata": {},
     "output_type": "display_data"
    }
   ],
   "source": [
    "tt0 = go.Box(x=depression[depression.Treat == 0].Time, name=\"Lithium\")\n",
    "tt1 = go.Box(x=depression[depression.Treat == 1].Time, name=\"Imapramine\")\n",
    "tt2 = go.Box(x=depression[depression.Treat == 2].Time, name=\"Placebo\")\n",
    "\n",
    "iplot(go.Figure(data=[tt0, tt1, tt2]))"
   ]
  },
  {
   "cell_type": "markdown",
   "metadata": {},
   "source": [
    "Center: The distribution of Time in the Imipramine group (coded as 1) has a substantially larger median (70.71) compared to the other two groups, whose medians are not very different (22, and 17.79). In fact the median of the Imipramine group (70.71) is even larger than the third quartile of the two other groups (67 and 63.7). \n",
    "\n",
    "Spread: The distribution of Time in the Imipramine group displays the largest spread (IQR is roughly 80 vs. 62 and 59 in the two other groups). Note that the larger spread in the Imipramine group is in the \"positive\" direction."
   ]
  },
  {
   "cell_type": "markdown",
   "metadata": {},
   "source": [
    "**Answer:** The results show that overall, Imipramine is more effective in delaying the recurrence of depression compared to Lithium. It should be noted, however, that the large spread in the distribution of the variable \"Time\" among patients who were treated with Imipramine indicates that being treated with this drug does not guarantee a long delay in the recurrence of depression. In addition, the similarity in the distribution of time until recurrence of depression between the Lithium and Placebo groups suggests that Lithium may not really be an effective treatment for depression."
   ]
  },
  {
   "cell_type": "markdown",
   "metadata": {},
   "source": [
    "Imipramine is superior to Lithium as a treatment for depression so doctors should consider prescribing it instead of Lithium.\n"
   ]
  },
  {
   "cell_type": "markdown",
   "metadata": {},
   "source": [
    "### Summary"
   ]
  },
  {
   "cell_type": "markdown",
   "metadata": {},
   "source": [
    "In this exercise we assessed the effectiveness of Lithium and Imipramine as treatments for depression. The two measures of effectiveness were whether or not recurrence of depression occurred, and the time until recurrence of depression. Using both measures we found that Imipramine is more effective than Lithium. More specifically, patients who were treated with Imipramine were less likely to have a recurrence of depression, and if they did, it took longer for recurrence to occur compared to patients who were treated with Lithium.\n",
    "\n",
    "The results we found also called into question the effectiveness of Lithium since the patients who were treated with it did not display any substantial differences compared to patients who did not receive any treatment, both in terms of an occurrence of depression, and in terms of the time until a recurrence."
   ]
  },
  {
   "cell_type": "code",
   "execution_count": null,
   "metadata": {},
   "outputs": [],
   "source": []
  }
 ],
 "metadata": {
  "kernelspec": {
   "display_name": "Python 3",
   "language": "python",
   "name": "python3"
  },
  "language_info": {
   "codemirror_mode": {
    "name": "ipython",
    "version": 3
   },
   "file_extension": ".py",
   "mimetype": "text/x-python",
   "name": "python",
   "nbconvert_exporter": "python",
   "pygments_lexer": "ipython3",
   "version": "3.6.4"
  }
 },
 "nbformat": 4,
 "nbformat_minor": 2
}
