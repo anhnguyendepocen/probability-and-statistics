{
 "cells": [
  {
   "cell_type": "markdown",
   "metadata": {},
   "source": [
    "# Producing Data: Sampling"
   ]
  },
  {
   "cell_type": "markdown",
   "metadata": {},
   "source": [
    "Consider the population of all students at a large university taking introductory statistics courses (1,129 students taking statistics for business, social sciences, or natural sciences).\n",
    "\n",
    "Suppose we are interested in the values of four specific variables for this population: handedness (right-handed or left-handed), sex, SAT Verbal score, and age. If we were unable to determine the values of those variables for the entire population, we may be able to take a random sample from that population, and use the sample summaries as estimates for population summaries. Would the random sample provide unbiased estimates for the population values?\n",
    "\n",
    "Next, what if instead of taking a random sample, we sampled the 192 students who happen to be enrolled in the business statistics course? First we will intuit, then check, if they would be a representative sample with respect to each of the four variables: handedness, sex, SAT Verbal score, and age. It may be helpful for you to know that, at this university, all students have comparable options in terms of when they take introductory statistics. You should also know that women, on the whole, tend to do somewhat better than men on the verbal portion of the SAT, and that business is a major that tends to interest males more than females.\n",
    "\n",
    "To summarize the goals for this activity, we will:\n",
    "\n",
    "A. Verify that the distributions of the variables handedness, sex, SAT Verbal score, and age are roughly the same for the random sample as they are for the population.\n",
    "\n",
    "B. Intuit whether the distributions of each of the four variables in the (nonrandom) sample of business students would be roughly the same as those for the population, or whether there is a reason to expect any of them to be biased.\n",
    "\n",
    "C. Check our intuition by comparing the distributions of each of the four variables for the sample of business students with those for the population, and determine whether they are roughly the same or if the sample values for any of the variables appear to be biased.\n",
    "\n",
    "Our dataset contains data on the entire population of 1,129 students, which includes students taking introductory statistics who are majoring in the natural and social sciences, as well as for business majors."
   ]
  },
  {
   "cell_type": "markdown",
   "metadata": {},
   "source": [
    "### Understand Data"
   ]
  },
  {
   "cell_type": "code",
   "execution_count": 1,
   "metadata": {},
   "outputs": [
    {
     "data": {
      "text/html": [
       "<script>requirejs.config({paths: { 'plotly': ['https://cdn.plot.ly/plotly-latest.min']},});if(!window.Plotly) {{require(['plotly'],function(plotly) {window.Plotly=plotly;});}}</script>"
      ],
      "text/vnd.plotly.v1+html": [
       "<script>requirejs.config({paths: { 'plotly': ['https://cdn.plot.ly/plotly-latest.min']},});if(!window.Plotly) {{require(['plotly'],function(plotly) {window.Plotly=plotly;});}}</script>"
      ]
     },
     "metadata": {},
     "output_type": "display_data"
    }
   ],
   "source": [
    "import pandas as pd\n",
    "import plotly.graph_objs as go\n",
    "from plotly.offline import iplot, init_notebook_mode\n",
    "\n",
    "init_notebook_mode(True)\n",
    "seed = 8"
   ]
  },
  {
   "cell_type": "code",
   "execution_count": 2,
   "metadata": {},
   "outputs": [
    {
     "data": {
      "text/html": [
       "<div>\n",
       "<style scoped>\n",
       "    .dataframe tbody tr th:only-of-type {\n",
       "        vertical-align: middle;\n",
       "    }\n",
       "\n",
       "    .dataframe tbody tr th {\n",
       "        vertical-align: top;\n",
       "    }\n",
       "\n",
       "    .dataframe thead th {\n",
       "        text-align: right;\n",
       "    }\n",
       "</style>\n",
       "<table border=\"1\" class=\"dataframe\">\n",
       "  <thead>\n",
       "    <tr style=\"text-align: right;\">\n",
       "      <th></th>\n",
       "      <th>Course</th>\n",
       "      <th>Handed</th>\n",
       "      <th>Sex</th>\n",
       "      <th>Verbal</th>\n",
       "      <th>Age</th>\n",
       "    </tr>\n",
       "  </thead>\n",
       "  <tbody>\n",
       "    <tr>\n",
       "      <th>0</th>\n",
       "      <td>Social</td>\n",
       "      <td>left</td>\n",
       "      <td>male</td>\n",
       "      <td>470.0</td>\n",
       "      <td>18.83</td>\n",
       "    </tr>\n",
       "    <tr>\n",
       "      <th>1</th>\n",
       "      <td>Social</td>\n",
       "      <td>right</td>\n",
       "      <td>female</td>\n",
       "      <td>650.0</td>\n",
       "      <td>18.67</td>\n",
       "    </tr>\n",
       "    <tr>\n",
       "      <th>2</th>\n",
       "      <td>Social</td>\n",
       "      <td>right</td>\n",
       "      <td>male</td>\n",
       "      <td>580.0</td>\n",
       "      <td>20.08</td>\n",
       "    </tr>\n",
       "    <tr>\n",
       "      <th>3</th>\n",
       "      <td>Social</td>\n",
       "      <td>right</td>\n",
       "      <td>female</td>\n",
       "      <td>660.0</td>\n",
       "      <td>18.50</td>\n",
       "    </tr>\n",
       "    <tr>\n",
       "      <th>4</th>\n",
       "      <td>Social</td>\n",
       "      <td>right</td>\n",
       "      <td>female</td>\n",
       "      <td>790.0</td>\n",
       "      <td>24.25</td>\n",
       "    </tr>\n",
       "  </tbody>\n",
       "</table>\n",
       "</div>"
      ],
      "text/plain": [
       "    Course Handed     Sex  Verbal    Age\n",
       "0   Social   left    male   470.0  18.83\n",
       "1   Social  right  female   650.0  18.67\n",
       "2   Social  right    male   580.0  20.08\n",
       "3   Social  right  female   660.0  18.50\n",
       "4   Social  right  female   790.0  24.25"
      ]
     },
     "execution_count": 2,
     "metadata": {},
     "output_type": "execute_result"
    }
   ],
   "source": [
    "population = pd.read_excel('files/student_survey.xls')\n",
    "population = population.replace({'*': None})\n",
    "population.head()"
   ]
  },
  {
   "cell_type": "markdown",
   "metadata": {},
   "source": [
    "The variables are defined as follows:\n",
    "\n",
    "- Course: natural science, social science, or business\n",
    "- Handed:righthanded or lefthanded\n",
    "- Sex: female or male\n",
    "- Verbal: SAT Verbal scores up to 800\n",
    "- Age: in years"
   ]
  },
  {
   "cell_type": "markdown",
   "metadata": {},
   "source": [
    "First, we will take a simple random sample of the data. For the sake of consistency, we will make the random sample the same size (192) as the nonrandom sample of business statistics students that will be examined later."
   ]
  },
  {
   "cell_type": "code",
   "execution_count": 3,
   "metadata": {},
   "outputs": [],
   "source": [
    "random_sample = population.sample(n=192, random_state=seed)"
   ]
  },
  {
   "cell_type": "code",
   "execution_count": 4,
   "metadata": {},
   "outputs": [
    {
     "data": {
      "text/html": [
       "<div>\n",
       "<style scoped>\n",
       "    .dataframe tbody tr th:only-of-type {\n",
       "        vertical-align: middle;\n",
       "    }\n",
       "\n",
       "    .dataframe tbody tr th {\n",
       "        vertical-align: top;\n",
       "    }\n",
       "\n",
       "    .dataframe thead th {\n",
       "        text-align: right;\n",
       "    }\n",
       "</style>\n",
       "<table border=\"1\" class=\"dataframe\">\n",
       "  <thead>\n",
       "    <tr style=\"text-align: right;\">\n",
       "      <th></th>\n",
       "      <th>Course</th>\n",
       "      <th>Handed</th>\n",
       "      <th>Sex</th>\n",
       "      <th>Verbal</th>\n",
       "      <th>Age</th>\n",
       "    </tr>\n",
       "  </thead>\n",
       "  <tbody>\n",
       "    <tr>\n",
       "      <th>1094</th>\n",
       "      <td>Business</td>\n",
       "      <td>right</td>\n",
       "      <td>female</td>\n",
       "      <td>410.0</td>\n",
       "      <td>18.75</td>\n",
       "    </tr>\n",
       "    <tr>\n",
       "      <th>1038</th>\n",
       "      <td>Business</td>\n",
       "      <td>right</td>\n",
       "      <td>female</td>\n",
       "      <td>660.0</td>\n",
       "      <td>20.92</td>\n",
       "    </tr>\n",
       "    <tr>\n",
       "      <th>794</th>\n",
       "      <td>Social</td>\n",
       "      <td>right</td>\n",
       "      <td>female</td>\n",
       "      <td>550.0</td>\n",
       "      <td>21.25</td>\n",
       "    </tr>\n",
       "    <tr>\n",
       "      <th>1036</th>\n",
       "      <td>Business</td>\n",
       "      <td>right</td>\n",
       "      <td>male</td>\n",
       "      <td>NaN</td>\n",
       "      <td>18.75</td>\n",
       "    </tr>\n",
       "    <tr>\n",
       "      <th>147</th>\n",
       "      <td>Natural</td>\n",
       "      <td>right</td>\n",
       "      <td>male</td>\n",
       "      <td>720.0</td>\n",
       "      <td>18.92</td>\n",
       "    </tr>\n",
       "  </tbody>\n",
       "</table>\n",
       "</div>"
      ],
      "text/plain": [
       "        Course Handed     Sex  Verbal    Age\n",
       "1094  Business  right  female   410.0  18.75\n",
       "1038  Business  right  female   660.0  20.92\n",
       "794     Social  right  female   550.0  21.25\n",
       "1036  Business  right    male     NaN  18.75\n",
       "147    Natural  right    male   720.0  18.92"
      ]
     },
     "execution_count": 4,
     "metadata": {},
     "output_type": "execute_result"
    }
   ],
   "source": [
    "random_sample.head()"
   ]
  },
  {
   "cell_type": "markdown",
   "metadata": {},
   "source": [
    "### PART A. \n",
    "Now we will determine whether the four variables' behavior for the random sample is comparable to their behavior for the population."
   ]
  },
  {
   "cell_type": "markdown",
   "metadata": {},
   "source": [
    "#### Handedness"
   ]
  },
  {
   "cell_type": "code",
   "execution_count": 5,
   "metadata": {},
   "outputs": [],
   "source": [
    "random_sample_percent = 100 * random_sample.groupby('Handed').Handed.count() / len(random_sample)"
   ]
  },
  {
   "cell_type": "code",
   "execution_count": 6,
   "metadata": {},
   "outputs": [],
   "source": [
    "pop_percent_handedness = 100 * population.groupby('Handed').Handed.count() / len(population)"
   ]
  },
  {
   "cell_type": "code",
   "execution_count": 7,
   "metadata": {},
   "outputs": [],
   "source": [
    "s_data = go.Bar(x=random_sample_percent.index, y=random_sample_percent, name=\"Random Sample\")\n",
    "p_data = go.Bar(x=pop_percent_handedness.index, y=pop_percent_handedness, name=\"Population\")"
   ]
  },
  {
   "cell_type": "code",
   "execution_count": 8,
   "metadata": {},
   "outputs": [],
   "source": [
    "layout = go.Layout(\n",
    "    title=\"Handedness\",\n",
    "    barmode=\"group\"\n",
    ")"
   ]
  },
  {
   "cell_type": "code",
   "execution_count": 9,
   "metadata": {},
   "outputs": [
    {
     "data": {
      "application/vnd.plotly.v1+json": {
       "data": [
        {
         "name": "Population",
         "type": "bar",
         "uid": "b1a7af",
         "x": [
          "left",
          "right"
         ],
         "y": [
          13.286093888396811,
          86.7139061116032
         ]
        },
        {
         "name": "Random Sample",
         "type": "bar",
         "uid": "640390",
         "x": [
          "left",
          "right"
         ],
         "y": [
          11.979166666666666,
          88.02083333333333
         ]
        }
       ],
       "layout": {
        "autosize": true,
        "barmode": "group",
        "title": "Handedness",
        "xaxis": {
         "autorange": true,
         "range": [
          -0.5,
          1.5
         ],
         "type": "category"
        },
        "yaxis": {
         "autorange": true,
         "range": [
          0,
          92.65350877192982
         ],
         "type": "linear"
        }
       }
      },
      "text/html": [
       "<div id=\"df72f110-6548-4c6e-a3cb-10fd8ec83175\" style=\"height: 525px; width: 100%;\" class=\"plotly-graph-div\"></div><script type=\"text/javascript\">require([\"plotly\"], function(Plotly) { window.PLOTLYENV=window.PLOTLYENV || {};window.PLOTLYENV.BASE_URL=\"https://plot.ly\";Plotly.newPlot(\"df72f110-6548-4c6e-a3cb-10fd8ec83175\", [{\"type\": \"bar\", \"x\": [\"left\", \"right\"], \"y\": [13.286093888396811, 86.7139061116032], \"name\": \"Population\"}, {\"type\": \"bar\", \"x\": [\"left\", \"right\"], \"y\": [11.979166666666666, 88.02083333333333], \"name\": \"Random Sample\"}], {\"title\": \"Handedness\", \"barmode\": \"group\"}, {\"showLink\": true, \"linkText\": \"Export to plot.ly\"})});</script>"
      ],
      "text/vnd.plotly.v1+html": [
       "<div id=\"df72f110-6548-4c6e-a3cb-10fd8ec83175\" style=\"height: 525px; width: 100%;\" class=\"plotly-graph-div\"></div><script type=\"text/javascript\">require([\"plotly\"], function(Plotly) { window.PLOTLYENV=window.PLOTLYENV || {};window.PLOTLYENV.BASE_URL=\"https://plot.ly\";Plotly.newPlot(\"df72f110-6548-4c6e-a3cb-10fd8ec83175\", [{\"type\": \"bar\", \"x\": [\"left\", \"right\"], \"y\": [13.286093888396811, 86.7139061116032], \"name\": \"Population\"}, {\"type\": \"bar\", \"x\": [\"left\", \"right\"], \"y\": [11.979166666666666, 88.02083333333333], \"name\": \"Random Sample\"}], {\"title\": \"Handedness\", \"barmode\": \"group\"}, {\"showLink\": true, \"linkText\": \"Export to plot.ly\"})});</script>"
      ]
     },
     "metadata": {},
     "output_type": "display_data"
    }
   ],
   "source": [
    "iplot(go.Figure(data=[p_data, s_data], layout=layout))"
   ]
  },
  {
   "cell_type": "code",
   "execution_count": 10,
   "metadata": {},
   "outputs": [],
   "source": [
    "s_data = go.Pie(labels=random_sample_percent.index, values=random_sample_percent, name=\"Random Sample\", \n",
    "                domain={'x':[0, 0.5], 'y': [1, 0]})\n",
    "p_data = go.Pie(labels=pop_percent_handedness.index, values=pop_percent_handedness, name=\"Population\",\n",
    "               domain={'x':[0.51, 1], 'y': [1, 0]})"
   ]
  },
  {
   "cell_type": "code",
   "execution_count": 11,
   "metadata": {},
   "outputs": [],
   "source": [
    "layout = go.Layout(\n",
    "    title=\"Handedness\", \n",
    ")"
   ]
  },
  {
   "cell_type": "code",
   "execution_count": 12,
   "metadata": {},
   "outputs": [
    {
     "data": {
      "application/vnd.plotly.v1+json": {
       "data": [
        {
         "domain": {
          "x": [
           0.51,
           1
          ],
          "y": [
           1,
           0
          ]
         },
         "labels": [
          "left",
          "right"
         ],
         "name": "Population",
         "type": "pie",
         "uid": "776d35",
         "values": [
          13.286093888396811,
          86.7139061116032
         ]
        },
        {
         "domain": {
          "x": [
           0,
           0.5
          ],
          "y": [
           1,
           0
          ]
         },
         "labels": [
          "left",
          "right"
         ],
         "name": "Random Sample",
         "type": "pie",
         "uid": "95fece",
         "values": [
          11.979166666666666,
          88.02083333333333
         ]
        }
       ],
       "layout": {
        "autosize": true,
        "title": "Handedness"
       }
      },
      "text/html": [
       "<div id=\"0aeebd1c-b473-4cce-bdca-a939e6b12a4b\" style=\"height: 525px; width: 100%;\" class=\"plotly-graph-div\"></div><script type=\"text/javascript\">require([\"plotly\"], function(Plotly) { window.PLOTLYENV=window.PLOTLYENV || {};window.PLOTLYENV.BASE_URL=\"https://plot.ly\";Plotly.newPlot(\"0aeebd1c-b473-4cce-bdca-a939e6b12a4b\", [{\"type\": \"pie\", \"labels\": [\"left\", \"right\"], \"values\": [13.286093888396811, 86.7139061116032], \"name\": \"Population\", \"domain\": {\"x\": [0.51, 1], \"y\": [1, 0]}}, {\"type\": \"pie\", \"labels\": [\"left\", \"right\"], \"values\": [11.979166666666666, 88.02083333333333], \"name\": \"Random Sample\", \"domain\": {\"x\": [0, 0.5], \"y\": [1, 0]}}], {\"title\": \"Handedness\"}, {\"showLink\": true, \"linkText\": \"Export to plot.ly\"})});</script>"
      ],
      "text/vnd.plotly.v1+html": [
       "<div id=\"0aeebd1c-b473-4cce-bdca-a939e6b12a4b\" style=\"height: 525px; width: 100%;\" class=\"plotly-graph-div\"></div><script type=\"text/javascript\">require([\"plotly\"], function(Plotly) { window.PLOTLYENV=window.PLOTLYENV || {};window.PLOTLYENV.BASE_URL=\"https://plot.ly\";Plotly.newPlot(\"0aeebd1c-b473-4cce-bdca-a939e6b12a4b\", [{\"type\": \"pie\", \"labels\": [\"left\", \"right\"], \"values\": [13.286093888396811, 86.7139061116032], \"name\": \"Population\", \"domain\": {\"x\": [0.51, 1], \"y\": [1, 0]}}, {\"type\": \"pie\", \"labels\": [\"left\", \"right\"], \"values\": [11.979166666666666, 88.02083333333333], \"name\": \"Random Sample\", \"domain\": {\"x\": [0, 0.5], \"y\": [1, 0]}}], {\"title\": \"Handedness\"}, {\"showLink\": true, \"linkText\": \"Export to plot.ly\"})});</script>"
      ]
     },
     "metadata": {},
     "output_type": "display_data"
    }
   ],
   "source": [
    "iplot(go.Figure(data=[p_data, s_data], layout=layout))"
   ]
  },
  {
   "cell_type": "markdown",
   "metadata": {},
   "source": [
    "#### Gender"
   ]
  },
  {
   "cell_type": "code",
   "execution_count": 13,
   "metadata": {},
   "outputs": [],
   "source": [
    "random_sample_percent = 100 * random_sample.groupby('Sex').Sex.count() / len(random_sample)\n",
    "pop_percent_gender = 100 * population.groupby('Sex').Sex.count() / len(population)"
   ]
  },
  {
   "cell_type": "code",
   "execution_count": 14,
   "metadata": {},
   "outputs": [],
   "source": [
    "s_data = go.Pie(labels=random_sample_percent.index, values=random_sample_percent, name=\"Random Sample\",\n",
    "                domain={'x':[0, 0.5], 'y': [1, 0]})\n",
    "p_data = go.Pie(labels=pop_percent_gender.index, values=pop_percent_gender, name=\"Population\", \n",
    "                domain={'x':[0.51, 1], 'y': [1, 0]})"
   ]
  },
  {
   "cell_type": "code",
   "execution_count": 15,
   "metadata": {},
   "outputs": [
    {
     "data": {
      "application/vnd.plotly.v1+json": {
       "data": [
        {
         "domain": {
          "x": [
           0.51,
           1
          ],
          "y": [
           1,
           0
          ]
         },
         "labels": [
          "female",
          "male"
         ],
         "name": "Population",
         "type": "pie",
         "uid": "006dac",
         "values": [
          62.0903454384411,
          37.9096545615589
         ]
        },
        {
         "domain": {
          "x": [
           0,
           0.5
          ],
          "y": [
           1,
           0
          ]
         },
         "labels": [
          "female",
          "male"
         ],
         "name": "Random Sample",
         "type": "pie",
         "uid": "258e15",
         "values": [
          66.66666666666667,
          33.333333333333336
         ]
        }
       ],
       "layout": {
        "autosize": true,
        "title": "Sex"
       }
      },
      "text/html": [
       "<div id=\"fb6c8fc7-7e6d-437c-9766-391b1914fb9b\" style=\"height: 525px; width: 100%;\" class=\"plotly-graph-div\"></div><script type=\"text/javascript\">require([\"plotly\"], function(Plotly) { window.PLOTLYENV=window.PLOTLYENV || {};window.PLOTLYENV.BASE_URL=\"https://plot.ly\";Plotly.newPlot(\"fb6c8fc7-7e6d-437c-9766-391b1914fb9b\", [{\"type\": \"pie\", \"labels\": [\"female\", \"male\"], \"values\": [62.0903454384411, 37.9096545615589], \"name\": \"Population\", \"domain\": {\"x\": [0.51, 1], \"y\": [1, 0]}}, {\"type\": \"pie\", \"labels\": [\"female\", \"male\"], \"values\": [66.66666666666667, 33.333333333333336], \"name\": \"Random Sample\", \"domain\": {\"x\": [0, 0.5], \"y\": [1, 0]}}], {\"title\": \"Sex\"}, {\"showLink\": true, \"linkText\": \"Export to plot.ly\"})});</script>"
      ],
      "text/vnd.plotly.v1+html": [
       "<div id=\"fb6c8fc7-7e6d-437c-9766-391b1914fb9b\" style=\"height: 525px; width: 100%;\" class=\"plotly-graph-div\"></div><script type=\"text/javascript\">require([\"plotly\"], function(Plotly) { window.PLOTLYENV=window.PLOTLYENV || {};window.PLOTLYENV.BASE_URL=\"https://plot.ly\";Plotly.newPlot(\"fb6c8fc7-7e6d-437c-9766-391b1914fb9b\", [{\"type\": \"pie\", \"labels\": [\"female\", \"male\"], \"values\": [62.0903454384411, 37.9096545615589], \"name\": \"Population\", \"domain\": {\"x\": [0.51, 1], \"y\": [1, 0]}}, {\"type\": \"pie\", \"labels\": [\"female\", \"male\"], \"values\": [66.66666666666667, 33.333333333333336], \"name\": \"Random Sample\", \"domain\": {\"x\": [0, 0.5], \"y\": [1, 0]}}], {\"title\": \"Sex\"}, {\"showLink\": true, \"linkText\": \"Export to plot.ly\"})});</script>"
      ]
     },
     "metadata": {},
     "output_type": "display_data"
    }
   ],
   "source": [
    "iplot(go.Figure(data=[p_data, s_data], layout={'title': 'Sex'}))"
   ]
  },
  {
   "cell_type": "markdown",
   "metadata": {},
   "source": [
    "#### Verbal"
   ]
  },
  {
   "cell_type": "markdown",
   "metadata": {},
   "source": [
    "Create 2 descriptive statistics summary tables—one for SAT Verbal score in the population and one for SAT Verbal score in the sample"
   ]
  },
  {
   "cell_type": "markdown",
   "metadata": {},
   "source": [
    "##### Random Sample"
   ]
  },
  {
   "cell_type": "code",
   "execution_count": 18,
   "metadata": {},
   "outputs": [
    {
     "name": "stdout",
     "output_type": "stream",
     "text": [
      "count    169.000000\n",
      "mean     583.786982\n",
      "std       73.431063\n",
      "min      300.000000\n",
      "25%      540.000000\n",
      "50%      580.000000\n",
      "75%      630.000000\n",
      "max      760.000000\n",
      "Name: Verbal, dtype: float64\n"
     ]
    },
    {
     "data": {
      "text/plain": [
       "<matplotlib.axes._subplots.AxesSubplot at 0x10cc15c50>"
      ]
     },
     "execution_count": 18,
     "metadata": {},
     "output_type": "execute_result"
    }
   ],
   "source": [
    "print(random_sample.Verbal.describe())\n",
    "random_sample.Verbal.hist()"
   ]
  },
  {
   "cell_type": "markdown",
   "metadata": {},
   "source": [
    "##### Population"
   ]
  },
  {
   "cell_type": "code",
   "execution_count": 19,
   "metadata": {},
   "outputs": [
    {
     "name": "stdout",
     "output_type": "stream",
     "text": [
      "count    998.000000\n",
      "mean     588.780561\n",
      "std       76.081470\n",
      "min      300.000000\n",
      "25%      540.000000\n",
      "50%      590.000000\n",
      "75%      640.000000\n",
      "max      800.000000\n",
      "Name: Verbal, dtype: float64\n"
     ]
    },
    {
     "data": {
      "text/plain": [
       "<matplotlib.axes._subplots.AxesSubplot at 0x10cd4dc50>"
      ]
     },
     "execution_count": 19,
     "metadata": {},
     "output_type": "execute_result"
    },
    {
     "data": {
      "image/png": "[encoded data removed]",
      "text/plain": [
       "<Figure size 432x288 with 1 Axes>"
      ]
     },
     "metadata": {},
     "output_type": "display_data"
    }
   ],
   "source": [
    "print(population.Verbal.describe())\n",
    "population.Verbal.hist()"
   ]
  },
  {
   "cell_type": "markdown",
   "metadata": {},
   "source": [
    "#### Age"
   ]
  },
  {
   "cell_type": "markdown",
   "metadata": {},
   "source": [
    "##### Random Sample"
   ]
  },
  {
   "cell_type": "code",
   "execution_count": 20,
   "metadata": {},
   "outputs": [
    {
     "name": "stdout",
     "output_type": "stream",
     "text": [
      "count    191.000000\n",
      "mean      20.290576\n",
      "std        3.210816\n",
      "min       18.000000\n",
      "25%       19.170000\n",
      "50%       19.670000\n",
      "75%       20.500000\n",
      "max       50.830000\n",
      "Name: Age, dtype: float64\n"
     ]
    },
    {
     "data": {
      "text/plain": [
       "<matplotlib.axes._subplots.AxesSubplot at 0x10d1bc3c8>"
      ]
     },
     "execution_count": 20,
     "metadata": {},
     "output_type": "execute_result"
    },
    {
     "data": {
      "image/png": "[encoded data removed]",
      "text/plain": [
       "<Figure size 432x288 with 1 Axes>"
      ]
     },
     "metadata": {},
     "output_type": "display_data"
    }
   ],
   "source": [
    "print(random_sample.Age.describe())\n",
    "random_sample.Age.hist()"
   ]
  },
  {
   "cell_type": "markdown",
   "metadata": {},
   "source": [
    "##### Population"
   ]
  },
  {
   "cell_type": "code",
   "execution_count": 21,
   "metadata": {},
   "outputs": [
    {
     "name": "stdout",
     "output_type": "stream",
     "text": [
      "count    1123.000000\n",
      "mean       20.374898\n",
      "std         3.188835\n",
      "min        17.670000\n",
      "25%        19.080000\n",
      "50%        19.670000\n",
      "75%        20.670000\n",
      "max        74.170000\n",
      "Name: Age, dtype: float64\n"
     ]
    },
    {
     "data": {
      "text/plain": [
       "<matplotlib.axes._subplots.AxesSubplot at 0x10cd1e048>"
      ]
     },
     "execution_count": 21,
     "metadata": {},
     "output_type": "execute_result"
    },
    {
     "data": {
      "image/png": "[encoded data removed]",
      "text/plain": [
       "<Figure size 432x288 with 1 Axes>"
      ]
     },
     "metadata": {},
     "output_type": "display_data"
    }
   ],
   "source": [
    "print(population.Age.describe())\n",
    "population.Age.hist()"
   ]
  },
  {
   "cell_type": "markdown",
   "metadata": {},
   "source": [
    "### Part B\n",
    "For each of the variables—Handed, Sex, Verbal, and Age—decide whether or not you believe the sample of business statistics students should be fairly representative of the larger population of all students in introductory statistics courses."
   ]
  },
  {
   "cell_type": "markdown",
   "metadata": {},
   "source": [
    "• **Handed**—should be representative. Business students shouldn't be any different from other students with respect to this variable.\n",
    "\n",
    "• **Sex**—could easily be biased. We expect fewer women in business than in the social or natural sciences.\n",
    "\n",
    "• **Verbal**—could easily be biased. Business students' SAT Verbal scores may tend to be lower, since there are likely to be fewer women, and women tend to do better on the verbal portion of the SAT (as the background to this problem suggests).\n",
    "\n",
    "• **Age**—should be representative. Regardless of major, students may take introductory statistics at about the same point in their college career (as suggested by the background)."
   ]
  },
  {
   "cell_type": "markdown",
   "metadata": {},
   "source": [
    "### PART C\n",
    "How representative is the (nonrandom) sample of students in the business statistics course, in actuality? In order to answer this question, we will need to extract this group from the population."
   ]
  },
  {
   "cell_type": "code",
   "execution_count": 22,
   "metadata": {},
   "outputs": [
    {
     "data": {
      "text/html": [
       "<div>\n",
       "<style scoped>\n",
       "    .dataframe tbody tr th:only-of-type {\n",
       "        vertical-align: middle;\n",
       "    }\n",
       "\n",
       "    .dataframe tbody tr th {\n",
       "        vertical-align: top;\n",
       "    }\n",
       "\n",
       "    .dataframe thead th {\n",
       "        text-align: right;\n",
       "    }\n",
       "</style>\n",
       "<table border=\"1\" class=\"dataframe\">\n",
       "  <thead>\n",
       "    <tr style=\"text-align: right;\">\n",
       "      <th></th>\n",
       "      <th>Course</th>\n",
       "      <th>Handed</th>\n",
       "      <th>Sex</th>\n",
       "      <th>Verbal</th>\n",
       "      <th>Age</th>\n",
       "    </tr>\n",
       "  </thead>\n",
       "  <tbody>\n",
       "    <tr>\n",
       "      <th>118</th>\n",
       "      <td>Business</td>\n",
       "      <td>right</td>\n",
       "      <td>male</td>\n",
       "      <td>500.0</td>\n",
       "      <td>18.08</td>\n",
       "    </tr>\n",
       "    <tr>\n",
       "      <th>119</th>\n",
       "      <td>Business</td>\n",
       "      <td>right</td>\n",
       "      <td>female</td>\n",
       "      <td>640.0</td>\n",
       "      <td>19.92</td>\n",
       "    </tr>\n",
       "    <tr>\n",
       "      <th>120</th>\n",
       "      <td>Business</td>\n",
       "      <td>right</td>\n",
       "      <td>male</td>\n",
       "      <td>530.0</td>\n",
       "      <td>19.58</td>\n",
       "    </tr>\n",
       "    <tr>\n",
       "      <th>121</th>\n",
       "      <td>Business</td>\n",
       "      <td>left</td>\n",
       "      <td>male</td>\n",
       "      <td>480.0</td>\n",
       "      <td>18.50</td>\n",
       "    </tr>\n",
       "    <tr>\n",
       "      <th>139</th>\n",
       "      <td>Business</td>\n",
       "      <td>right</td>\n",
       "      <td>male</td>\n",
       "      <td>520.0</td>\n",
       "      <td>19.42</td>\n",
       "    </tr>\n",
       "  </tbody>\n",
       "</table>\n",
       "</div>"
      ],
      "text/plain": [
       "       Course Handed     Sex  Verbal    Age\n",
       "118  Business  right    male   500.0  18.08\n",
       "119  Business  right  female   640.0  19.92\n",
       "120  Business  right    male   530.0  19.58\n",
       "121  Business   left    male   480.0  18.50\n",
       "139  Business  right    male   520.0  19.42"
      ]
     },
     "execution_count": 22,
     "metadata": {},
     "output_type": "execute_result"
    }
   ],
   "source": [
    "business_students = population[population.Course == 'Business']\n",
    "business_students.head()"
   ]
  },
  {
   "cell_type": "markdown",
   "metadata": {},
   "source": [
    "Next, we explore whether the four variables' behavior for the (nonrandom) sample of business statistics students is comparable to their behavior for the population"
   ]
  },
  {
   "cell_type": "markdown",
   "metadata": {},
   "source": [
    "#### Handedness"
   ]
  },
  {
   "cell_type": "code",
   "execution_count": 31,
   "metadata": {},
   "outputs": [],
   "source": [
    "business_percent = 100 * business_students.groupby('Handed').Handed.count() / len(business_students)"
   ]
  },
  {
   "cell_type": "code",
   "execution_count": 32,
   "metadata": {},
   "outputs": [],
   "source": [
    "s_data = go.Pie(labels=business_percent.index, values=business_percent, name=\"Random Sample\", \n",
    "                domain={'x':[0, 0.5], 'y': [1, 0]})\n",
    "p_data = go.Pie(labels=pop_percent_handedness.index, values=pop_percent_handedness, name=\"Population\",\n",
    "               domain={'x':[0.51, 1], 'y': [1, 0]})"
   ]
  },
  {
   "cell_type": "code",
   "execution_count": 33,
   "metadata": {},
   "outputs": [],
   "source": [
    "layout = go.Layout(\n",
    "    title=\"Handedness\"\n",
    ")"
   ]
  },
  {
   "cell_type": "code",
   "execution_count": 34,
   "metadata": {},
   "outputs": [
    {
     "data": {
      "application/vnd.plotly.v1+json": {
       "data": [
        {
         "domain": {
          "x": [
           0.51,
           1
          ],
          "y": [
           1,
           0
          ]
         },
         "labels": [
          "left",
          "right"
         ],
         "name": "Population",
         "type": "pie",
         "uid": "00a50a",
         "values": [
          13.286093888396811,
          86.7139061116032
         ]
        },
        {
         "domain": {
          "x": [
           0,
           0.5
          ],
          "y": [
           1,
           0
          ]
         },
         "labels": [
          "left",
          "right"
         ],
         "name": "Random Sample",
         "type": "pie",
         "uid": "5d8391",
         "values": [
          9.375,
          90.625
         ]
        }
       ],
       "layout": {
        "autosize": true,
        "title": "Handedness"
       }
      },
      "text/html": [
       "<div id=\"f81b0fb4-a4a4-4549-ab07-a7e5182c3b1f\" style=\"height: 525px; width: 100%;\" class=\"plotly-graph-div\"></div><script type=\"text/javascript\">require([\"plotly\"], function(Plotly) { window.PLOTLYENV=window.PLOTLYENV || {};window.PLOTLYENV.BASE_URL=\"https://plot.ly\";Plotly.newPlot(\"f81b0fb4-a4a4-4549-ab07-a7e5182c3b1f\", [{\"type\": \"pie\", \"labels\": [\"left\", \"right\"], \"values\": [13.286093888396811, 86.7139061116032], \"name\": \"Population\", \"domain\": {\"x\": [0.51, 1], \"y\": [1, 0]}}, {\"type\": \"pie\", \"labels\": [\"left\", \"right\"], \"values\": [9.375, 90.625], \"name\": \"Random Sample\", \"domain\": {\"x\": [0, 0.5], \"y\": [1, 0]}}], {\"title\": \"Handedness\"}, {\"showLink\": true, \"linkText\": \"Export to plot.ly\"})});</script>"
      ],
      "text/vnd.plotly.v1+html": [
       "<div id=\"f81b0fb4-a4a4-4549-ab07-a7e5182c3b1f\" style=\"height: 525px; width: 100%;\" class=\"plotly-graph-div\"></div><script type=\"text/javascript\">require([\"plotly\"], function(Plotly) { window.PLOTLYENV=window.PLOTLYENV || {};window.PLOTLYENV.BASE_URL=\"https://plot.ly\";Plotly.newPlot(\"f81b0fb4-a4a4-4549-ab07-a7e5182c3b1f\", [{\"type\": \"pie\", \"labels\": [\"left\", \"right\"], \"values\": [13.286093888396811, 86.7139061116032], \"name\": \"Population\", \"domain\": {\"x\": [0.51, 1], \"y\": [1, 0]}}, {\"type\": \"pie\", \"labels\": [\"left\", \"right\"], \"values\": [9.375, 90.625], \"name\": \"Random Sample\", \"domain\": {\"x\": [0, 0.5], \"y\": [1, 0]}}], {\"title\": \"Handedness\"}, {\"showLink\": true, \"linkText\": \"Export to plot.ly\"})});</script>"
      ]
     },
     "metadata": {},
     "output_type": "display_data"
    }
   ],
   "source": [
    "iplot(go.Figure(data=[p_data, s_data], layout=layout))"
   ]
  },
  {
   "cell_type": "markdown",
   "metadata": {},
   "source": [
    "#### Gender"
   ]
  },
  {
   "cell_type": "code",
   "execution_count": 35,
   "metadata": {},
   "outputs": [],
   "source": [
    "business_percent = 100 * business_students.groupby('Sex').Sex.count() / len(business_students)"
   ]
  },
  {
   "cell_type": "code",
   "execution_count": 36,
   "metadata": {},
   "outputs": [],
   "source": [
    "s_data = go.Pie(labels=business_percent.index, values=business_percent, name=\"Random Sample\", \n",
    "                domain={'x':[0, 0.5], 'y': [1, 0]})\n",
    "p_data = go.Pie(labels=pop_percent_gender.index, values=pop_percent_gender, name=\"Population\",\n",
    "               domain={'x':[0.51, 1], 'y': [1, 0]})"
   ]
  },
  {
   "cell_type": "code",
   "execution_count": 38,
   "metadata": {},
   "outputs": [
    {
     "data": {
      "application/vnd.plotly.v1+json": {
       "data": [
        {
         "domain": {
          "x": [
           0.51,
           1
          ],
          "y": [
           1,
           0
          ]
         },
         "labels": [
          "female",
          "male"
         ],
         "name": "Population",
         "type": "pie",
         "uid": "633657",
         "values": [
          62.0903454384411,
          37.9096545615589
         ]
        },
        {
         "domain": {
          "x": [
           0,
           0.5
          ],
          "y": [
           1,
           0
          ]
         },
         "labels": [
          "female",
          "male"
         ],
         "name": "Random Sample",
         "type": "pie",
         "uid": "9b65fb",
         "values": [
          52.083333333333336,
          47.916666666666664
         ]
        }
       ],
       "layout": {
        "autosize": true,
        "title": "Handedness"
       }
      },
      "text/html": [
       "<div id=\"42c56c2a-415c-4cb8-87f2-e9be0dd7990e\" style=\"height: 525px; width: 100%;\" class=\"plotly-graph-div\"></div><script type=\"text/javascript\">require([\"plotly\"], function(Plotly) { window.PLOTLYENV=window.PLOTLYENV || {};window.PLOTLYENV.BASE_URL=\"https://plot.ly\";Plotly.newPlot(\"42c56c2a-415c-4cb8-87f2-e9be0dd7990e\", [{\"type\": \"pie\", \"labels\": [\"female\", \"male\"], \"values\": [62.0903454384411, 37.9096545615589], \"name\": \"Population\", \"domain\": {\"x\": [0.51, 1], \"y\": [1, 0]}}, {\"type\": \"pie\", \"labels\": [\"female\", \"male\"], \"values\": [52.083333333333336, 47.916666666666664], \"name\": \"Random Sample\", \"domain\": {\"x\": [0, 0.5], \"y\": [1, 0]}}], {\"title\": \"Handedness\"}, {\"showLink\": true, \"linkText\": \"Export to plot.ly\"})});</script>"
      ],
      "text/vnd.plotly.v1+html": [
       "<div id=\"42c56c2a-415c-4cb8-87f2-e9be0dd7990e\" style=\"height: 525px; width: 100%;\" class=\"plotly-graph-div\"></div><script type=\"text/javascript\">require([\"plotly\"], function(Plotly) { window.PLOTLYENV=window.PLOTLYENV || {};window.PLOTLYENV.BASE_URL=\"https://plot.ly\";Plotly.newPlot(\"42c56c2a-415c-4cb8-87f2-e9be0dd7990e\", [{\"type\": \"pie\", \"labels\": [\"female\", \"male\"], \"values\": [62.0903454384411, 37.9096545615589], \"name\": \"Population\", \"domain\": {\"x\": [0.51, 1], \"y\": [1, 0]}}, {\"type\": \"pie\", \"labels\": [\"female\", \"male\"], \"values\": [52.083333333333336, 47.916666666666664], \"name\": \"Random Sample\", \"domain\": {\"x\": [0, 0.5], \"y\": [1, 0]}}], {\"title\": \"Handedness\"}, {\"showLink\": true, \"linkText\": \"Export to plot.ly\"})});</script>"
      ]
     },
     "metadata": {},
     "output_type": "display_data"
    }
   ],
   "source": [
    "layout = go.Layout(\n",
    "    title=\"Handedness\"\n",
    ")\n",
    "iplot(go.Figure(data=[p_data, s_data], layout=layout))"
   ]
  },
  {
   "cell_type": "markdown",
   "metadata": {},
   "source": [
    "#### Verbal"
   ]
  },
  {
   "cell_type": "code",
   "execution_count": 39,
   "metadata": {},
   "outputs": [
    {
     "name": "stdout",
     "output_type": "stream",
     "text": [
      "count    171.000000\n",
      "mean     574.649123\n",
      "std       74.065907\n",
      "min      340.000000\n",
      "25%      530.000000\n",
      "50%      580.000000\n",
      "75%      620.000000\n",
      "max      760.000000\n",
      "Name: Verbal, dtype: float64\n"
     ]
    },
    {
     "data": {
      "text/plain": [
       "<matplotlib.axes._subplots.AxesSubplot at 0x10d3b1208>"
      ]
     },
     "execution_count": 39,
     "metadata": {},
     "output_type": "execute_result"
    },
    {
     "data": {
      "image/png": "[encoded data removed]",
      "text/plain": [
       "<Figure size 432x288 with 1 Axes>"
      ]
     },
     "metadata": {},
     "output_type": "display_data"
    }
   ],
   "source": [
    "print(business_students.Verbal.describe())\n",
    "business_students.Verbal.hist()"
   ]
  },
  {
   "cell_type": "code",
   "execution_count": 40,
   "metadata": {},
   "outputs": [
    {
     "name": "stdout",
     "output_type": "stream",
     "text": [
      "count    998.000000\n",
      "mean     588.780561\n",
      "std       76.081470\n",
      "min      300.000000\n",
      "25%      540.000000\n",
      "50%      590.000000\n",
      "75%      640.000000\n",
      "max      800.000000\n",
      "Name: Verbal, dtype: float64\n"
     ]
    },
    {
     "data": {
      "text/plain": [
       "<matplotlib.axes._subplots.AxesSubplot at 0x10d463c88>"
      ]
     },
     "execution_count": 40,
     "metadata": {},
     "output_type": "execute_result"
    },
    {
     "data": {
      "image/png": "[encoded data removed]",
      "text/plain": [
       "<Figure size 432x288 with 1 Axes>"
      ]
     },
     "metadata": {},
     "output_type": "display_data"
    }
   ],
   "source": [
    "print(population.Verbal.describe())\n",
    "population.Verbal.hist()"
   ]
  },
  {
   "cell_type": "markdown",
   "metadata": {},
   "source": [
    "#### Age"
   ]
  },
  {
   "cell_type": "code",
   "execution_count": 41,
   "metadata": {},
   "outputs": [
    {
     "name": "stdout",
     "output_type": "stream",
     "text": [
      "count    192.000000\n",
      "mean      20.306771\n",
      "std        4.785640\n",
      "min       17.670000\n",
      "25%       18.830000\n",
      "50%       19.500000\n",
      "75%       20.250000\n",
      "max       74.170000\n",
      "Name: Age, dtype: float64\n"
     ]
    },
    {
     "data": {
      "text/plain": [
       "<matplotlib.axes._subplots.AxesSubplot at 0x10d3a8048>"
      ]
     },
     "execution_count": 41,
     "metadata": {},
     "output_type": "execute_result"
    },
    {
     "data": {
      "image/png": "[encoded data removed]",
      "text/plain": [
       "<Figure size 432x288 with 1 Axes>"
      ]
     },
     "metadata": {},
     "output_type": "display_data"
    }
   ],
   "source": [
    "print(business_students.Age.describe())\n",
    "business_students.Age.hist()"
   ]
  },
  {
   "cell_type": "code",
   "execution_count": 43,
   "metadata": {},
   "outputs": [
    {
     "name": "stdout",
     "output_type": "stream",
     "text": [
      "count    1123.000000\n",
      "mean       20.374898\n",
      "std         3.188835\n",
      "min        17.670000\n",
      "25%        19.080000\n",
      "50%        19.670000\n",
      "75%        20.670000\n",
      "max        74.170000\n",
      "Name: Age, dtype: float64\n"
     ]
    },
    {
     "data": {
      "text/plain": [
       "<matplotlib.axes._subplots.AxesSubplot at 0x10d6f1cf8>"
      ]
     },
     "execution_count": 43,
     "metadata": {},
     "output_type": "execute_result"
    },
    {
     "data": {
      "image/png": "[encoded data removed]",
      "text/plain": [
       "<Figure size 432x288 with 1 Axes>"
      ]
     },
     "metadata": {},
     "output_type": "display_data"
    }
   ],
   "source": [
    "print(population.Age.describe())\n",
    "population.Age.hist()"
   ]
  },
  {
   "cell_type": "code",
   "execution_count": null,
   "metadata": {},
   "outputs": [],
   "source": []
  }
 ],
 "metadata": {
  "kernelspec": {
   "display_name": "Python 3",
   "language": "python",
   "name": "python3"
  },
  "language_info": {
   "codemirror_mode": {
    "name": "ipython",
    "version": 3
   },
   "file_extension": ".py",
   "mimetype": "text/x-python",
   "name": "python",
   "nbconvert_exporter": "python",
   "pygments_lexer": "ipython3",
   "version": "3.6.4"
  }
 },
 "nbformat": 4,
 "nbformat_minor": 2
}
