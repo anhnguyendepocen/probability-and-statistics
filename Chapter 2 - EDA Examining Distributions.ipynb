{
 "cells": [
  {
   "cell_type": "markdown",
   "metadata": {},
   "source": [
    "# Exploratory Data Analysis: Examining Distributions"
   ]
  },
  {
   "cell_type": "markdown",
   "metadata": {},
   "source": [
    "### 1. EDA Overview"
   ]
  },
  {
   "cell_type": "markdown",
   "metadata": {},
   "source": [
    "In order to convert raw data to meaningful information, we need to summarize and examine the distribution of the variable.\n",
    "By distribution of variable, I mean \n",
    "1. Values the variable can take\n",
    "2. How often the variable takes those values"
   ]
  },
  {
   "cell_type": "markdown",
   "metadata": {},
   "source": [
    "### 2. Data and Variables"
   ]
  },
  {
   "cell_type": "markdown",
   "metadata": {},
   "source": [
    "**Data** are pieces of information about *individuals* organized into *variables*. \n",
    "**Individual** is a particular person or object under analysis. \n",
    "**Variable** is a particular characteristic of the individual\n",
    "\n",
    "**Dataset** is a collection of data identified under certain circumstances. Usually, it is organized in a table format, where rows denote the individuals and columns are the different variables"
   ]
  },
  {
   "cell_type": "markdown",
   "metadata": {},
   "source": [
    "#### 2.1 Variables"
   ]
  },
  {
   "cell_type": "markdown",
   "metadata": {},
   "source": [
    "Variables can be classified into two types: Categorical and Numerical  \n",
    "\n",
    "**Categorical** variables take only one label/category as value, where categories are mutually exclusive. They have no arithmetic meaning (i.e., it does not make sense to add, subtract, multiply, divide, or compare the magnitude of such values)  \n",
    "\n",
    "**Numerical** variables take numeric values and denote some kind of measurement"
   ]
  },
  {
   "cell_type": "markdown",
   "metadata": {},
   "source": [
    "Above is a simple classification of data. A more precise distinction between types of data can be given by **Scale of Measurement**. There are four scales of measurement, from least to most precise:\n",
    "1. **Nominal**: These are discrete qualitative categories. The categories have no quantitative value and have no order among them whatsoever. Examples are *religion*, *marital status*, etc. \n",
    "\n",
    "2. **Ordinal**: These are similar to nominal, however, the values have an implicit ordering/ranking. A unit increase in variable of this type represents *more*, but doesn't say by how much. Even though numbers maybe used, they are used only to denote importance of variable and make no sense to apply arithmetics on it. Example *Ratings, Car condition*, etc.\n",
    "\n",
    "3. **Interval**: Takes numerical form, and the distance between pairs of consecutive numbers is assumed to be equal. However, interval variables do not have a meaningful zero point; thus, a zero does not mean the absence of the attribute, but rather it is a particular (but arbitrary) point on the scale. A good example of an interval measure is *temperature in the Fahrenheit scale*: a temperature of zero degrees Fahrenheit is still a temperature, not the absence of temperature.\n",
    "\n",
    "4. **Ratio**: Similar to the interval scale. As with the interval scale, a number is assigned to a subject that represents the amount of the attribute that the subject has and the difference between consecutive numbers is assumed to be equal. The main difference between interval and ratio measurements has to do with how we interpret a value of zero. For ratio measures, the zero is meaningful and tell us that the attribute is not present in the participant. Examples of ratio measures include *a participant’s number of children, number of AP courses taken*, etc."
   ]
  },
  {
   "cell_type": "markdown",
   "metadata": {},
   "source": [
    "![](files/datatypes.png)"
   ]
  },
  {
   "cell_type": "markdown",
   "metadata": {},
   "source": [
    "A brief summary of types of variables:"
   ]
  },
  {
   "cell_type": "markdown",
   "metadata": {},
   "source": [
    "<table>\n",
    "    <thead>\n",
    "        <td><strong>Type</td>\n",
    "        <td><strong>Central Tendency</td>\n",
    "        <td><strong>Visualizations</td>\n",
    "        <td><strong>Information</td>\n",
    "    </thead>\n",
    "    <tbody>\n",
    "    <tr>\n",
    "        <td>Nominal</td>\n",
    "        <td>Mode</td>\n",
    "        <td>Pie, Bar</td>\n",
    "        <td>frequency, percentage, proportion</td>\n",
    "    </tr>\n",
    "    <tr>\n",
    "        <td>Oridnal</td>\n",
    "        <td>Median</td>\n",
    "        <td>Pie, Bar</td>\n",
    "        <td>above and percentiles, median, mode and the interquartile range</td>\n",
    "    </tr>\n",
    "    <tr>\n",
    "        <td>Interval</td>\n",
    "        <td>Mean, Deviation</td>\n",
    "        <td>Histogram, Boxplot</td>\n",
    "        <td>percentiles, median, interquartile range, mean, mode, median, standard deviation, and range</td>\n",
    "    </tr>\n",
    "    <tr>\n",
    "        <td>Ratio</td>\n",
    "        <td>Geometric mean, Coefficient of variation</td>\n",
    "        <td>Histgram, Boxplot</td>\n",
    "        <td>percentiles, median, interquartile range, mean, mode, median, standard deviation, and range</td>\n",
    "    </tr>\n",
    "    </tbody>\n",
    "</table>"
   ]
  },
  {
   "cell_type": "markdown",
   "metadata": {},
   "source": [
    "### 3. One Categorical Variables"
   ]
  },
  {
   "cell_type": "markdown",
   "metadata": {},
   "source": [
    "#### 3.1 Frequency Distributions"
   ]
  },
  {
   "cell_type": "markdown",
   "metadata": {},
   "source": [
    "> A frequency distribution is a table listing each distinct value of some variable and the number of times it occurs in some dataset.\n"
   ]
  },
  {
   "cell_type": "markdown",
   "metadata": {},
   "source": [
    "In short, a frequency distribution is a table showing how frequencies are distributed over values. Let's take a look at some examples. We recently taught a course to 183 students and we asked them to evaluate it by filling out a brief questionnaire. Part of the data we collected are shown below.\n",
    "\n",
    "![](https://spss-tutorials.com/img/frequency-distribution-raw-data-view-2.png)\n"
   ]
  },
  {
   "cell_type": "markdown",
   "metadata": {},
   "source": [
    "One of the first ways to gain some insight into our data is inspecting which values are present in our variables and how often these occur. That is, we'll inspect frequency distributions, one of which is shown below.\n",
    "\n",
    "![](https://spss-tutorials.com/img/frequency-distribution-1.png)"
   ]
  },
  {
   "cell_type": "markdown",
   "metadata": {},
   "source": [
    "#### 3.2 Cumulative Percentages"
   ]
  },
  {
   "cell_type": "markdown",
   "metadata": {},
   "source": [
    "A cumulative percentage is the percentage for some value plus the percentages for all values that precede it.\n",
    "\n",
    "![](https://spss-tutorials.com/img/frequency-distribution-cumulative-percent.png)"
   ]
  },
  {
   "cell_type": "markdown",
   "metadata": {},
   "source": [
    "#### 3.3 Visualizations"
   ]
  },
  {
   "cell_type": "markdown",
   "metadata": {},
   "source": [
    "In order to visualize the numerical summaries we've obtained, we need a graphical display. There are two simple graphical displays for visualizing the distribution of categorical data: Pie chart and Bar graph"
   ]
  },
  {
   "cell_type": "markdown",
   "metadata": {},
   "source": [
    "### Exercise"
   ]
  },
  {
   "cell_type": "markdown",
   "metadata": {},
   "source": [
    "#### _Using R_"
   ]
  },
  {
   "cell_type": "code",
   "execution_count": 2,
   "metadata": {},
   "outputs": [],
   "source": [
    "load(\"../files/friends.RData\")"
   ]
  },
  {
   "cell_type": "code",
   "execution_count": 5,
   "metadata": {},
   "outputs": [
    {
     "data": {
      "text/html": [
       "<table>\n",
       "<thead><tr><th scope=col>Friends</th></tr></thead>\n",
       "<tbody>\n",
       "\t<tr><td>No difference</td></tr>\n",
       "\t<tr><td>No difference</td></tr>\n",
       "\t<tr><td>No difference</td></tr>\n",
       "\t<tr><td>No difference</td></tr>\n",
       "\t<tr><td>No difference</td></tr>\n",
       "\t<tr><td>No difference</td></tr>\n",
       "</tbody>\n",
       "</table>\n"
      ],
      "text/latex": [
       "\\begin{tabular}{r|l}\n",
       " Friends\\\\\n",
       "\\hline\n",
       "\t No difference\\\\\n",
       "\t No difference\\\\\n",
       "\t No difference\\\\\n",
       "\t No difference\\\\\n",
       "\t No difference\\\\\n",
       "\t No difference\\\\\n",
       "\\end{tabular}\n"
      ],
      "text/markdown": [
       "\n",
       "Friends | \n",
       "|---|---|---|---|---|---|\n",
       "| No difference | \n",
       "| No difference | \n",
       "| No difference | \n",
       "| No difference | \n",
       "| No difference | \n",
       "| No difference | \n",
       "\n",
       "\n"
      ],
      "text/plain": [
       "  Friends      \n",
       "1 No difference\n",
       "2 No difference\n",
       "3 No difference\n",
       "4 No difference\n",
       "5 No difference\n",
       "6 No difference"
      ]
     },
     "metadata": {},
     "output_type": "display_data"
    }
   ],
   "source": [
    "head(friends)"
   ]
  },
  {
   "cell_type": "code",
   "execution_count": 9,
   "metadata": {},
   "outputs": [
    {
     "data": {
      "text/plain": [
       "\n",
       "No difference  Opposite sex      Same sex \n",
       "          602           434           164 "
      ]
     },
     "metadata": {},
     "output_type": "display_data"
    }
   ],
   "source": [
    "t = table(friends$Friends)\n",
    "t"
   ]
  },
  {
   "cell_type": "code",
   "execution_count": 10,
   "metadata": {},
   "outputs": [
    {
     "data": {
      "text/plain": [
       "\n",
       "No difference  Opposite sex      Same sex \n",
       "    0.5016667     0.3616667     0.1366667 "
      ]
     },
     "metadata": {},
     "output_type": "display_data"
    }
   ],
   "source": [
    "p = prop.table(t)\n",
    "p"
   ]
  },
  {
   "cell_type": "code",
   "execution_count": 11,
   "metadata": {},
   "outputs": [
    {
     "data": {
      "text/plain": [
       "\n",
       "No difference  Opposite sex      Same sex \n",
       "     50.16667      36.16667      13.66667 "
      ]
     },
     "metadata": {},
     "output_type": "display_data"
    }
   ],
   "source": [
    "percent = p * 100\n",
    "percent"
   ]
  },
  {
   "cell_type": "code",
   "execution_count": 16,
   "metadata": {},
   "outputs": [
    {
     "data": {
      "text/plain": [
       "\n",
       "No difference  Opposite sex      Same sex \n",
       "         50.2          36.2          13.7 "
      ]
     },
     "metadata": {},
     "output_type": "display_data"
    }
   ],
   "source": [
    "percent = round(x = percent, digits = 1)\n",
    "percent"
   ]
  },
  {
   "cell_type": "code",
   "execution_count": 28,
   "metadata": {},
   "outputs": [],
   "source": [
    "lbl = paste(c(\"No difference\",\"Opposite sex\",\"Same sex\"), percent, \"%\", sep=\" \")"
   ]
  },
  {
   "cell_type": "code",
   "execution_count": 29,
   "metadata": {},
   "outputs": [
    {
     "data": {
      "image/png": "[encoded data removed]",
      "text/plain": [
       "plot without title"
      ]
     },
     "metadata": {},
     "output_type": "display_data",
     "source": "R display func"
    }
   ],
   "source": [
    "pie(x = percent, labels = lbl)"
   ]
  },
  {
   "cell_type": "markdown",
   "metadata": {},
   "source": [
    "#### _Using Python_"
   ]
  },
  {
   "cell_type": "code",
   "execution_count": 1,
   "metadata": {},
   "outputs": [
    {
     "data": {
      "text/html": [
       "<script>requirejs.config({paths: { 'plotly': ['https://cdn.plot.ly/plotly-latest.min']},});if(!window.Plotly) {{require(['plotly'],function(plotly) {window.Plotly=plotly;});}}</script>"
      ],
      "text/vnd.plotly.v1+html": [
       "<script>requirejs.config({paths: { 'plotly': ['https://cdn.plot.ly/plotly-latest.min']},});if(!window.Plotly) {{require(['plotly'],function(plotly) {window.Plotly=plotly;});}}</script>"
      ]
     },
     "metadata": {},
     "output_type": "display_data"
    }
   ],
   "source": [
    "%matplotlib inline\n",
    "\n",
    "import pandas as pd\n",
    "import matplotlib.pyplot as plt\n",
    "from plotly.offline import init_notebook_mode, plot, iplot\n",
    "init_notebook_mode(True)\n",
    "\n",
    "import plotly.graph_objs as go\n",
    "import pygal"
   ]
  },
  {
   "cell_type": "code",
   "execution_count": 2,
   "metadata": {},
   "outputs": [],
   "source": [
    "friends_df = pd.read_excel(\"files/friends.xls\")"
   ]
  },
  {
   "cell_type": "code",
   "execution_count": 3,
   "metadata": {},
   "outputs": [
    {
     "data": {
      "text/html": [
       "<div>\n",
       "<style scoped>\n",
       "    .dataframe tbody tr th:only-of-type {\n",
       "        vertical-align: middle;\n",
       "    }\n",
       "\n",
       "    .dataframe tbody tr th {\n",
       "        vertical-align: top;\n",
       "    }\n",
       "\n",
       "    .dataframe thead th {\n",
       "        text-align: right;\n",
       "    }\n",
       "</style>\n",
       "<table border=\"1\" class=\"dataframe\">\n",
       "  <thead>\n",
       "    <tr style=\"text-align: right;\">\n",
       "      <th></th>\n",
       "      <th>Friends</th>\n",
       "    </tr>\n",
       "  </thead>\n",
       "  <tbody>\n",
       "    <tr>\n",
       "      <th>0</th>\n",
       "      <td>Opposite sex</td>\n",
       "    </tr>\n",
       "    <tr>\n",
       "      <th>1</th>\n",
       "      <td>No difference</td>\n",
       "    </tr>\n",
       "    <tr>\n",
       "      <th>2</th>\n",
       "      <td>Opposite sex</td>\n",
       "    </tr>\n",
       "    <tr>\n",
       "      <th>3</th>\n",
       "      <td>No difference</td>\n",
       "    </tr>\n",
       "    <tr>\n",
       "      <th>4</th>\n",
       "      <td>Opposite sex</td>\n",
       "    </tr>\n",
       "  </tbody>\n",
       "</table>\n",
       "</div>"
      ],
      "text/plain": [
       "         Friends\n",
       "0   Opposite sex\n",
       "1  No difference\n",
       "2   Opposite sex\n",
       "3  No difference\n",
       "4   Opposite sex"
      ]
     },
     "execution_count": 3,
     "metadata": {},
     "output_type": "execute_result"
    }
   ],
   "source": [
    "friends_df.head()"
   ]
  },
  {
   "cell_type": "code",
   "execution_count": 4,
   "metadata": {},
   "outputs": [
    {
     "data": {
      "text/plain": [
       "No difference    602\n",
       "Opposite sex     434\n",
       "Same sex         164\n",
       "Name: Friends, dtype: int64"
      ]
     },
     "execution_count": 4,
     "metadata": {},
     "output_type": "execute_result"
    }
   ],
   "source": [
    "friends_df.Friends.value_counts()"
   ]
  },
  {
   "cell_type": "code",
   "execution_count": 5,
   "metadata": {},
   "outputs": [
    {
     "data": {
      "text/plain": [
       "No difference    50.2\n",
       "Opposite sex     36.2\n",
       "Same sex         13.7\n",
       "Name: Friends, dtype: float64"
      ]
     },
     "execution_count": 5,
     "metadata": {},
     "output_type": "execute_result"
    }
   ],
   "source": [
    "percent = (friends_df.Friends.value_counts() / len(friends_df) * 100).round(decimals = 1)\n",
    "percent"
   ]
  },
  {
   "cell_type": "code",
   "execution_count": 6,
   "metadata": {},
   "outputs": [],
   "source": [
    "lbl = [f\"{x} {y} %\" for x, y in percent.items()]"
   ]
  },
  {
   "cell_type": "code",
   "execution_count": 7,
   "metadata": {},
   "outputs": [
    {
     "data": {
      "image/png": "[encoded data removed]",
      "text/plain": [
       "<Figure size 432x288 with 1 Axes>"
      ]
     },
     "metadata": {},
     "output_type": "display_data"
    }
   ],
   "source": [
    "plt.pie(x=percent, labels=lbl)\n",
    "plt.show()"
   ]
  },
  {
   "cell_type": "code",
   "execution_count": 8,
   "metadata": {
    "scrolled": true
   },
   "outputs": [
    {
     "data": {
      "application/vnd.plotly.v1+json": {
       "data": [
        {
         "labels": [
          "No difference 50.2 %",
          "Opposite sex 36.2 %",
          "Same sex 13.7 %"
         ],
         "type": "pie",
         "uid": "221b9c",
         "values": [
          50.2,
          36.2,
          13.7
         ]
        }
       ],
       "layout": {
        "autosize": true
       }
      },
      "text/html": [
       "<div id=\"ae31aa53-d6fd-49c4-bd8c-a6540371164d\" style=\"height: 525px; width: 100%;\" class=\"plotly-graph-div\"></div><script type=\"text/javascript\">require([\"plotly\"], function(Plotly) { window.PLOTLYENV=window.PLOTLYENV || {};window.PLOTLYENV.BASE_URL=\"https://plot.ly\";Plotly.newPlot(\"ae31aa53-d6fd-49c4-bd8c-a6540371164d\", [{\"type\": \"pie\", \"labels\": [\"No difference 50.2 %\", \"Opposite sex 36.2 %\", \"Same sex 13.7 %\"], \"values\": [50.2, 36.2, 13.7]}], {}, {\"showLink\": true, \"linkText\": \"Export to plot.ly\"})});</script>"
      ],
      "text/vnd.plotly.v1+html": [
       "<div id=\"ae31aa53-d6fd-49c4-bd8c-a6540371164d\" style=\"height: 525px; width: 100%;\" class=\"plotly-graph-div\"></div><script type=\"text/javascript\">require([\"plotly\"], function(Plotly) { window.PLOTLYENV=window.PLOTLYENV || {};window.PLOTLYENV.BASE_URL=\"https://plot.ly\";Plotly.newPlot(\"ae31aa53-d6fd-49c4-bd8c-a6540371164d\", [{\"type\": \"pie\", \"labels\": [\"No difference 50.2 %\", \"Opposite sex 36.2 %\", \"Same sex 13.7 %\"], \"values\": [50.2, 36.2, 13.7]}], {}, {\"showLink\": true, \"linkText\": \"Export to plot.ly\"})});</script>"
      ]
     },
     "metadata": {},
     "output_type": "display_data"
    }
   ],
   "source": [
    "p = go.Pie(labels=lbl, values=percent)\n",
    "iplot([p])"
   ]
  },
  {
   "cell_type": "markdown",
   "metadata": {},
   "source": [
    "### 4 One Quantitative Variable: Graphs"
   ]
  },
  {
   "cell_type": "markdown",
   "metadata": {},
   "source": [
    "In this section, we will explore the data collected from a quantitative variable, and learn how to describe and summarize the important features of its distribution. We will first learn how to display the distribution using graphs and then move on to discuss numerical measures.\n",
    "\n",
    "To display data from one quantitative variable graphically, we can use either the *histogram* or the *stemplot*. (Another graph, the *boxplot*, will be covered in another section)."
   ]
  },
  {
   "cell_type": "markdown",
   "metadata": {},
   "source": [
    "#### 4.1 Histograms"
   ]
  },
  {
   "cell_type": "markdown",
   "metadata": {},
   "source": [
    "Here are the exam grades of 15 students:\n",
    "\n",
    ">88, 48, 60, 51, 57, 85, 69, 75, 97, 72, 71, 79, 65, 63, 73\n",
    "\n",
    "We first need to break the range of values into intervals (also called \"bins\" or \"classes\"). In this case, since our dataset consists of exam scores, it will make sense to choose intervals that typically correspond to the range of a letter grade, 10 points wide: 40-50, 50-60, ... 90-100. "
   ]
  },
  {
   "cell_type": "markdown",
   "metadata": {},
   "source": [
    "To construct the histogram from this table we plot the intervals on the X-axis, and show the number of observations in each interval (frequency of the interval) on the Y-axis\n",
    "\n",
    "![](files/hist.png)"
   ]
  },
  {
   "cell_type": "markdown",
   "metadata": {},
   "source": [
    "##### **Interpreting the Histogram**"
   ]
  },
  {
   "cell_type": "markdown",
   "metadata": {},
   "source": [
    "Once the distribution has been displayed graphically, we can describe the overall pattern of the distribution and mention any striking deviations from that pattern. More specifically, we should consider the following features of the distribution:\n",
    "- Shape\n",
    "- Center\n",
    "- Spread\n",
    "- Outliers"
   ]
  },
  {
   "cell_type": "markdown",
   "metadata": {},
   "source": [
    "**Shape**  \n",
    "When describing the shape of a distribution, we should consider:\n",
    "- Symmetry/skewness of the distribution.\n",
    "- Peakedness (modality)—the number of peaks (modes) the distribution has."
   ]
  },
  {
   "cell_type": "markdown",
   "metadata": {},
   "source": [
    "*Symmetric Distributions*"
   ]
  },
  {
   "cell_type": "markdown",
   "metadata": {},
   "source": [
    "![](https://lagunita.stanford.edu/assets/courseware/v1/555d1de4be33e15667b6fe7fb76ab540/asset-v1:OLI+ProbStat+Open_Jan2017+type@asset+block/eda_examining_distributions_histogram2.gif)\n",
    "![](https://lagunita.stanford.edu/assets/courseware/v1/53757a95fdab73950f0ba6e95cac8748/asset-v1:OLI+ProbStat+Open_Jan2017+type@asset+block/eda_examining_distributions_histogram3.gif)\n",
    "![](https://lagunita.stanford.edu/assets/courseware/v1/555d1de4be33e15667b6fe7fb76ab540/asset-v1:OLI+ProbStat+Open_Jan2017+type@asset+block/eda_examining_distributions_histogram4.gif)"
   ]
  },
  {
   "cell_type": "markdown",
   "metadata": {},
   "source": [
    "*Skewed Right Distributions*"
   ]
  },
  {
   "cell_type": "markdown",
   "metadata": {},
   "source": [
    "![](https://lagunita.stanford.edu/assets/courseware/v1/7f651a599f939542cf929479d2086c23/asset-v1:OLI+ProbStat+Open_Jan2017+type@asset+block/eda_examining_distributions_histogram5.gif)\n",
    "\n",
    "A distribution is called right skewed if it has a longer tail on its right side. Note that in a skewed right distribution, the bulk of the observations are small/medium, with a few observations that are much larger than the rest. An example of a real-life variable that has a skewed right distribution is salary. Most people earn in the low/medium range of salaries, with a few exceptions (CEOs, professional athletes etc.) that are distributed along a large range (long \"tail\") of higher values."
   ]
  },
  {
   "cell_type": "markdown",
   "metadata": {},
   "source": [
    "*Skewed Left Distributions*"
   ]
  },
  {
   "cell_type": "markdown",
   "metadata": {},
   "source": [
    "![](https://lagunita.stanford.edu/assets/courseware/v1/a4d03a54ca15682bab2c45d852589cb6/asset-v1:OLI+ProbStat+Open_Jan2017+type@asset+block/eda_examining_distributions_histogram6.gif)\n",
    "\n",
    "A distribution is called skewed left if, as in the histogram above, the left tail (smaller values) is much longer than the right tail (larger values). Note that in a skewed left distribution, the bulk of the observations are medium/large, with a few observations that are much smaller than the rest. An example of a real life variable that has a skewed left distribution is age of death from natural causes (heart disease, cancer etc.)"
   ]
  },
  {
   "cell_type": "markdown",
   "metadata": {},
   "source": [
    "**Center**  \n",
    "The center of the distribution is its midpoint—the value that divides the distribution so that approximately half the observations take smaller values, and approximately half the observations take larger values. Note that from looking at the histogram we can get only a rough estimate for the center of the distribution."
   ]
  },
  {
   "cell_type": "markdown",
   "metadata": {},
   "source": [
    "**Spread**  \n",
    "The spread (also called variability) of the distribution can be described by the approximate range covered by the data. From looking at the histogram, we can approximate the smallest observation (min), and the largest observation (max), and thus approximate the range. (More exact ways of finding measures of spread will be discussed in the next section.)\n",
    "\n",
    "In our example:\n",
    "\n",
    "- approximate min: 45 (the middle of the lowest interval of scores)\n",
    "- approximate max: 95 (the middle of the highest interval of scores)\n",
    "- approximate range: 95-45=50"
   ]
  },
  {
   "cell_type": "markdown",
   "metadata": {},
   "source": [
    "**Outliers**  \n",
    "Outliers are observations that fall outside the overall pattern. For example, the following histogram represents a distribution that has a high probable outlier:\n",
    "![](https://lagunita.stanford.edu/assets/courseware/v1/fadf37cdaf9eef53bd19c51e2ad1d4c7/asset-v1:OLI+ProbStat+Open_Jan2017+type@asset+block/eda_examining_distributions_histogram7.gif)\n"
   ]
  },
  {
   "cell_type": "markdown",
   "metadata": {},
   "source": [
    "### Exercise"
   ]
  },
  {
   "cell_type": "markdown",
   "metadata": {},
   "source": [
    "#### *Using R*"
   ]
  },
  {
   "cell_type": "code",
   "execution_count": 1,
   "metadata": {},
   "outputs": [],
   "source": [
    "load(\"files//actor_2013.RData\")"
   ]
  },
  {
   "cell_type": "code",
   "execution_count": 3,
   "metadata": {},
   "outputs": [
    {
     "data": {
      "text/html": [
       "<table>\n",
       "<thead><tr><th scope=col>Age</th></tr></thead>\n",
       "<tbody>\n",
       "\t<tr><td>43</td></tr>\n",
       "\t<tr><td>42</td></tr>\n",
       "\t<tr><td>48</td></tr>\n",
       "\t<tr><td>49</td></tr>\n",
       "\t<tr><td>56</td></tr>\n",
       "\t<tr><td>38</td></tr>\n",
       "</tbody>\n",
       "</table>\n"
      ],
      "text/latex": [
       "\\begin{tabular}{r|l}\n",
       " Age\\\\\n",
       "\\hline\n",
       "\t 43\\\\\n",
       "\t 42\\\\\n",
       "\t 48\\\\\n",
       "\t 49\\\\\n",
       "\t 56\\\\\n",
       "\t 38\\\\\n",
       "\\end{tabular}\n"
      ],
      "text/markdown": [
       "\n",
       "Age | \n",
       "|---|---|---|---|---|---|\n",
       "| 43 | \n",
       "| 42 | \n",
       "| 48 | \n",
       "| 49 | \n",
       "| 56 | \n",
       "| 38 | \n",
       "\n",
       "\n"
      ],
      "text/plain": [
       "  Age\n",
       "1 43 \n",
       "2 42 \n",
       "3 48 \n",
       "4 49 \n",
       "5 56 \n",
       "6 38 "
      ]
     },
     "metadata": {},
     "output_type": "display_data"
    }
   ],
   "source": [
    "head(actor_age)"
   ]
  },
  {
   "cell_type": "code",
   "execution_count": 5,
   "metadata": {},
   "outputs": [
    {
     "data": {
      "image/png": "[encoded data removed]",
      "text/plain": [
       "Plot with title “Best Actor Oscar Winners Ages”"
      ]
     },
     "metadata": {},
     "output_type": "display_data"
    }
   ],
   "source": [
    "hist(actor_age$Age, xlab = \"Age of Best Actor Oscar Winners (1970-2013)\", ylab = \"Number of Winners\", \n",
    "     main=\"Best Actor Oscar Winners Ages\")"
   ]
  },
  {
   "cell_type": "markdown",
   "metadata": {},
   "source": [
    "#### *Using Python*"
   ]
  },
  {
   "cell_type": "code",
   "execution_count": 1,
   "metadata": {},
   "outputs": [
    {
     "data": {
      "text/html": [
       "<script>requirejs.config({paths: { 'plotly': ['https://cdn.plot.ly/plotly-latest.min']},});if(!window.Plotly) {{require(['plotly'],function(plotly) {window.Plotly=plotly;});}}</script>"
      ],
      "text/vnd.plotly.v1+html": [
       "<script>requirejs.config({paths: { 'plotly': ['https://cdn.plot.ly/plotly-latest.min']},});if(!window.Plotly) {{require(['plotly'],function(plotly) {window.Plotly=plotly;});}}</script>"
      ]
     },
     "metadata": {},
     "output_type": "display_data"
    }
   ],
   "source": [
    "%matplotlib inline\n",
    "\n",
    "import pandas as pd\n",
    "import matplotlib.pyplot as plt\n",
    "from plotly.offline import init_notebook_mode, plot, iplot\n",
    "init_notebook_mode(True)\n",
    "\n",
    "import plotly.graph_objs as go"
   ]
  },
  {
   "cell_type": "code",
   "execution_count": 2,
   "metadata": {},
   "outputs": [
    {
     "data": {
      "text/html": [
       "<div>\n",
       "<style scoped>\n",
       "    .dataframe tbody tr th:only-of-type {\n",
       "        vertical-align: middle;\n",
       "    }\n",
       "\n",
       "    .dataframe tbody tr th {\n",
       "        vertical-align: top;\n",
       "    }\n",
       "\n",
       "    .dataframe thead th {\n",
       "        text-align: right;\n",
       "    }\n",
       "</style>\n",
       "<table border=\"1\" class=\"dataframe\">\n",
       "  <thead>\n",
       "    <tr style=\"text-align: right;\">\n",
       "      <th></th>\n",
       "      <th>Age</th>\n",
       "    </tr>\n",
       "  </thead>\n",
       "  <tbody>\n",
       "    <tr>\n",
       "      <th>0</th>\n",
       "      <td>43</td>\n",
       "    </tr>\n",
       "    <tr>\n",
       "      <th>1</th>\n",
       "      <td>42</td>\n",
       "    </tr>\n",
       "    <tr>\n",
       "      <th>2</th>\n",
       "      <td>48</td>\n",
       "    </tr>\n",
       "    <tr>\n",
       "      <th>3</th>\n",
       "      <td>49</td>\n",
       "    </tr>\n",
       "    <tr>\n",
       "      <th>4</th>\n",
       "      <td>56</td>\n",
       "    </tr>\n",
       "  </tbody>\n",
       "</table>\n",
       "</div>"
      ],
      "text/plain": [
       "   Age\n",
       "0   43\n",
       "1   42\n",
       "2   48\n",
       "3   49\n",
       "4   56"
      ]
     },
     "execution_count": 2,
     "metadata": {},
     "output_type": "execute_result"
    }
   ],
   "source": [
    "actors = pd.read_excel(\"files/actor_2013.xls\")\n",
    "actors.head()"
   ]
  },
  {
   "cell_type": "code",
   "execution_count": 3,
   "metadata": {
    "scrolled": true
   },
   "outputs": [
    {
     "data": {
      "text/plain": [
       "<matplotlib.axes._subplots.AxesSubplot at 0x10bc00780>"
      ]
     },
     "execution_count": 3,
     "metadata": {},
     "output_type": "execute_result"
    },
    {
     "data": {
      "image/png": "[encoded data removed]",
      "text/plain": [
       "<Figure size 432x288 with 1 Axes>"
      ]
     },
     "metadata": {},
     "output_type": "display_data"
    }
   ],
   "source": [
    "actors.Age.hist(grid=False)"
   ]
  },
  {
   "cell_type": "code",
   "execution_count": 10,
   "metadata": {},
   "outputs": [
    {
     "data": {
      "application/vnd.plotly.v1+json": {
       "data": [
        {
         "autobinx": true,
         "type": "histogram",
         "uid": "aee48c",
         "x": [
          43,
          42,
          48,
          49,
          56,
          38,
          60,
          30,
          40,
          42,
          37,
          76,
          39,
          53,
          45,
          36,
          62,
          33,
          51,
          32,
          42,
          54,
          52,
          37,
          38,
          32,
          45,
          60,
          46,
          40,
          36,
          47,
          29,
          43,
          37,
          38,
          45,
          50,
          48,
          60,
          50,
          39,
          55,
          44
         ],
         "xbins": {
          "end": 79.5,
          "size": 5,
          "start": 24.5
         }
        }
       ],
       "layout": {
        "autosize": true,
        "xaxis": {
         "autorange": true,
         "range": [
          24.5,
          79.5
         ],
         "type": "linear"
        },
        "yaxis": {
         "autorange": true,
         "range": [
          0,
          10.526315789473685
         ]
        }
       }
      },
      "text/html": [
       "<div id=\"a9385320-1e41-487b-a4f4-200fbe87225c\" style=\"height: 525px; width: 100%;\" class=\"plotly-graph-div\"></div><script type=\"text/javascript\">require([\"plotly\"], function(Plotly) { window.PLOTLYENV=window.PLOTLYENV || {};window.PLOTLYENV.BASE_URL=\"https://plot.ly\";Plotly.newPlot(\"a9385320-1e41-487b-a4f4-200fbe87225c\", [{\"type\": \"histogram\", \"x\": [43, 42, 48, 49, 56, 38, 60, 30, 40, 42, 37, 76, 39, 53, 45, 36, 62, 33, 51, 32, 42, 54, 52, 37, 38, 32, 45, 60, 46, 40, 36, 47, 29, 43, 37, 38, 45, 50, 48, 60, 50, 39, 55, 44]}], {}, {\"showLink\": true, \"linkText\": \"Export to plot.ly\"})});</script>"
      ],
      "text/vnd.plotly.v1+html": [
       "<div id=\"a9385320-1e41-487b-a4f4-200fbe87225c\" style=\"height: 525px; width: 100%;\" class=\"plotly-graph-div\"></div><script type=\"text/javascript\">require([\"plotly\"], function(Plotly) { window.PLOTLYENV=window.PLOTLYENV || {};window.PLOTLYENV.BASE_URL=\"https://plot.ly\";Plotly.newPlot(\"a9385320-1e41-487b-a4f4-200fbe87225c\", [{\"type\": \"histogram\", \"x\": [43, 42, 48, 49, 56, 38, 60, 30, 40, 42, 37, 76, 39, 53, 45, 36, 62, 33, 51, 32, 42, 54, 52, 37, 38, 32, 45, 60, 46, 40, 36, 47, 29, 43, 37, 38, 45, 50, 48, 60, 50, 39, 55, 44]}], {}, {\"showLink\": true, \"linkText\": \"Export to plot.ly\"})});</script>"
      ]
     },
     "metadata": {},
     "output_type": "display_data"
    }
   ],
   "source": [
    "age_hist = [go.Histogram(x=actors.Age.values)]\n",
    "iplot(age_hist)"
   ]
  },
  {
   "cell_type": "markdown",
   "metadata": {},
   "source": [
    "#### 4.2 Final views on Histogram:"
   ]
  },
  {
   "cell_type": "markdown",
   "metadata": {},
   "source": [
    "Advantages:\n",
    "The advantages of the histogram as compared to the unprocessed data are:\n",
    "\n",
    "- It gives range of the data.\n",
    "- It gives location of the data.\n",
    "- it gives clue about the skewness of the data.\n",
    "- It gives information about the out of control situation.\n",
    "- Histogram are density estimates (gives a good impression of the distribution of data.\n",
    "- Can be compared to normal curve.\n",
    "\n",
    "Disadvantages:\n",
    "- Exact values cannot be read from histogram because data is grouped into categories and individuality of data vanishes in grouped data.\n",
    "- It is more difficult it compare two data sets.\n",
    "- It is used only for continuous data set."
   ]
  }
 ],
 "metadata": {
  "kernelspec": {
   "display_name": "Python 3",
   "language": "python",
   "name": "python3"
  },
  "language_info": {
   "codemirror_mode": {
    "name": "ipython",
    "version": 3
   },
   "file_extension": ".py",
   "mimetype": "text/x-python",
   "name": "python",
   "nbconvert_exporter": "python",
   "pygments_lexer": "ipython3",
   "version": "3.6.4"
  }
 },
 "nbformat": 4,
 "nbformat_minor": 2
}
